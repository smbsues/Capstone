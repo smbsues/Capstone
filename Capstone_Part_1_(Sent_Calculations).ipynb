{
  "cells": [
    {
      "cell_type": "markdown",
      "metadata": {
        "id": "view-in-github",
        "colab_type": "text"
      },
      "source": [
        "<a href=\"https://colab.research.google.com/github/smbsues/Capstone/blob/main/Capstone_Part_1_(Sent_Calculations).ipynb\" target=\"_parent\"><img src=\"https://colab.research.google.com/assets/colab-badge.svg\" alt=\"Open In Colab\"/></a>"
      ]
    },
    {
      "cell_type": "code",
      "source": [
        "!pip install transformers"
      ],
      "metadata": {
        "id": "8kUU_nXayGE0"
      },
      "execution_count": null,
      "outputs": []
    },
    {
      "cell_type": "code",
      "source": [
        "!pip install stanza"
      ],
      "metadata": {
        "id": "1UfRZdkVyUFS"
      },
      "execution_count": null,
      "outputs": []
    },
    {
      "cell_type": "code",
      "source": [
        "!pip install sentencepiece"
      ],
      "metadata": {
        "colab": {
          "base_uri": "https://localhost:8080/"
        },
        "id": "PvPqrJw7Qjqo",
        "outputId": "84b527cd-ad36-4d4d-a605-8c6b7bb6225c"
      },
      "execution_count": null,
      "outputs": [
        {
          "output_type": "stream",
          "name": "stdout",
          "text": [
            "Looking in indexes: https://pypi.org/simple, https://us-python.pkg.dev/colab-wheels/public/simple/\n",
            "Requirement already satisfied: sentencepiece in /usr/local/lib/python3.8/dist-packages (0.1.97)\n"
          ]
        }
      ]
    },
    {
      "cell_type": "code",
      "execution_count": null,
      "metadata": {
        "id": "amO14hKWJ2r5"
      },
      "outputs": [],
      "source": [
        "from transformers import AutoTokenizer, AutoModelForSeq2SeqLM, pipeline\n",
        "import stanza\n",
        "import pandas as pd\n",
        "import numpy as np\n",
        "import matplotlib.pyplot as plt"
      ]
    },
    {
      "cell_type": "code",
      "execution_count": null,
      "metadata": {
        "id": "PFkw8SxEJo6O"
      },
      "outputs": [],
      "source": [
        "def upload_data(file):\n",
        "    with open(file, 'r') as f:\n",
        "      next(f)\n",
        "      lines = f.readlines()\n",
        "      data = []\n",
        "      for line in lines:\n",
        "        line_strp = line.rstrip('\\n')\n",
        "        data.append(line_strp)\n",
        "      return data\n",
        "\n",
        "english = upload_data('/content/drive/MyDrive/Capstone/OpenSubtitles.de-en.en')\n",
        "\n",
        "german_gold  = upload_data('/content/drive/MyDrive/Capstone/OpenSubtitles.de-en.de')\n",
        "\n",
        "english = english[0:10000]\n",
        "\n",
        "german_gold = german_gold[0:10000]\n",
        "\n",
        "#english"
      ]
    },
    {
      "cell_type": "code",
      "execution_count": null,
      "metadata": {
        "id": "4mXg8VI2g9ud",
        "colab": {
          "base_uri": "https://localhost:8080/"
        },
        "outputId": "c87194a3-1d3d-4238-db45-a7b67a783691"
      },
      "outputs": [
        {
          "output_type": "execute_result",
          "data": {
            "text/plain": [
              "True"
            ]
          },
          "metadata": {},
          "execution_count": 6
        }
      ],
      "source": [
        "def check_length(len1, len2):\n",
        "  if len1 == len2:\n",
        "    return True\n",
        "  else:\n",
        "    return False\n",
        "\n",
        "check_length(len(english), len(german_gold))"
      ]
    },
    {
      "cell_type": "code",
      "source": [
        "from google.colab import drive\n",
        "drive.mount('/content/drive')"
      ],
      "metadata": {
        "colab": {
          "base_uri": "https://localhost:8080/"
        },
        "id": "dM5mczHbQEBF",
        "outputId": "292b6a30-0682-4161-8321-68feb138a454"
      },
      "execution_count": null,
      "outputs": [
        {
          "output_type": "stream",
          "name": "stdout",
          "text": [
            "Drive already mounted at /content/drive; to attempt to forcibly remount, call drive.mount(\"/content/drive\", force_remount=True).\n"
          ]
        }
      ]
    },
    {
      "cell_type": "code",
      "execution_count": null,
      "metadata": {
        "id": "9BttGzMnkxER"
      },
      "outputs": [],
      "source": [
        "# Load in tokenizer and model from huggingface documentation\n",
        "tokenizer = AutoTokenizer.from_pretrained(\"Helsinki-NLP/opus-mt-en-de\")\n",
        "model = AutoModelForSeq2SeqLM.from_pretrained(\"Helsinki-NLP/opus-mt-en-de\")\n",
        "\n",
        "# Load in Stanza sentiment analysis models for English and German\n",
        "nlp_en = stanza.Pipeline(lang='en', processors='tokenize,sentiment', tokenize_no_ssplit=True)\n",
        "nlp_de = stanza.Pipeline(lang='de', processors='tokenize,sentiment', tokenize_no_ssplit=True)\n",
        "\n",
        "sentiments_dict = {}\n",
        "\n",
        "for i, (d_g, e) in enumerate(zip(german_gold, english)):\n",
        "  sentiments_dict[i] = {'de_gold': d_g, 'dg_sentences': [], 'dg_sentiments': [],\n",
        "                        'en': e, 'en_sentences': [], 'en_sentiments': [],\n",
        "                        'de_trans': '', 'dt_sentences': [], 'dt_sentiments': []}\n",
        "  # German gold (original parallel text)  \n",
        "  de_g_line = nlp_de(d_g)\n",
        "  en_line = nlp_en(e)\n",
        "  for sentence in de_g_line.sentences:\n",
        "    de_g_sent = sentence.sentiment\n",
        "    sentiments_dict[i]['dg_sentences'].append(sentence)\n",
        "    sentiments_dict[i]['dg_sentiments'].append(de_g_sent)\n",
        "  for sentence in en_line.sentences:\n",
        "    en_sent = sentence.sentiment\n",
        "    sentiments_dict[i]['en_sentences'].append(sentence)\n",
        "    sentiments_dict[i]['en_sentiments'].append(en_sent)\n",
        "  # Translate full en text to german\n",
        "  translated = model.generate(**tokenizer(e, return_tensors=\"pt\", padding=True))\n",
        "  de_translated = tokenizer.decode(translated[0], skip_special_tokens=True)\n",
        "  de_t_line = nlp_de(de_translated)  # Changed this to sentiment analyze the right doc\n",
        "  sentiments_dict[i]['de_trans'] = de_translated\n",
        "  for sentence in de_t_line.sentences:\n",
        "    de_t_sent = sentence.sentiment\n",
        "    sentiments_dict[i]['dt_sentences'].append(sentence)\n",
        "    sentiments_dict[i]['dt_sentiments'].append(de_t_sent)"
      ]
    },
    {
      "cell_type": "code",
      "execution_count": null,
      "metadata": {
        "id": "8-YR7GQo3H0X"
      },
      "outputs": [],
      "source": [
        "# sentiments_dict[i] = {'de_gold': d_g, 'dg_sentences': [], 'dg_sentiments': [],\n",
        "#                         'en': e, 'en_sentences': [], 'en_sentiments': [],\n",
        "#                         'de_trans': '', 'dt_sentences': [], 'dt_sentiments': []}\n",
        "\n",
        "# protodf = [['de_gold', 'en', 'de_trans', 'sent_gold', 'sent_en', 'sent_trans']]\n",
        "# for i, data in sentiments_dict.items():\n",
        "#     protodf.append([data['de_gold'], data['en'], data['de_trans'],\n",
        "#                     np.mean(data['dg_sentiments']), np.mean(data['en_sentiments']),\n",
        "#                     np.mean(data['dt_sentiments'])])\n",
        "# sentiments_df = pd.DataFrame(protodf[1:], columns=protodf[0])\n",
        "\n",
        "# sentiments_df.dropna(axis=0)"
      ]
    }
  ],
  "metadata": {
    "colab": {
      "provenance": [],
      "include_colab_link": true
    },
    "kernelspec": {
      "display_name": "Python 3.10.6",
      "language": "python",
      "name": "python3"
    },
    "language_info": {
      "codemirror_mode": {
        "name": "ipython",
        "version": 3
      },
      "file_extension": ".py",
      "mimetype": "text/x-python",
      "name": "python",
      "nbconvert_exporter": "python",
      "pygments_lexer": "ipython3",
      "version": "3.10.6"
    },
    "vscode": {
      "interpreter": {
        "hash": "f64dcab98bd2fbe954e8207f5ba33b751396a7c32feda041db22b289b6cd4af3"
      }
    }
  },
  "nbformat": 4,
  "nbformat_minor": 0
}