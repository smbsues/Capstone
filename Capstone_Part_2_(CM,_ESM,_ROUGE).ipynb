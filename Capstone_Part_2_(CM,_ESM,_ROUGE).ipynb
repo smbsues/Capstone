{
  "nbformat": 4,
  "nbformat_minor": 0,
  "metadata": {
    "colab": {
      "provenance": [],
      "mount_file_id": "17lsnkQRJXg7RCo_TNSa6iC_aNLMEZgQI",
      "authorship_tag": "ABX9TyNxGdsWJ4xrsTDm7N7dLB7E",
      "include_colab_link": true
    },
    "kernelspec": {
      "name": "python3",
      "display_name": "Python 3"
    },
    "language_info": {
      "name": "python"
    }
  },
  "cells": [
    {
      "cell_type": "markdown",
      "metadata": {
        "id": "view-in-github",
        "colab_type": "text"
      },
      "source": [
        "<a href=\"https://colab.research.google.com/github/smbsues/Capstone/blob/main/Capstone_Part_2_(CM%2C_ESM%2C_ROUGE).ipynb\" target=\"_parent\"><img src=\"https://colab.research.google.com/assets/colab-badge.svg\" alt=\"Open In Colab\"/></a>"
      ]
    },
    {
      "cell_type": "code",
      "source": [
        "!pip install rouge\n",
        "!pip install rouge-score"
      ],
      "metadata": {
        "id": "w96lZ_rJYtSw"
      },
      "execution_count": null,
      "outputs": []
    },
    {
      "cell_type": "code",
      "execution_count": null,
      "metadata": {
        "id": "as6yVQfM2UTW"
      },
      "outputs": [],
      "source": [
        "import pandas as pd\n",
        "import numpy as np\n",
        "import seaborn as sns\n",
        "import sklearn\n",
        "from sklearn.metrics import confusion_matrix\n",
        "from rouge_score import rouge_scorer\n",
        "import matplotlib.pyplot as plt\n",
        "import statsmodels.api as sm"
      ]
    },
    {
      "cell_type": "code",
      "source": [
        "from google.colab import drive\n",
        "drive.mount('/content/drive')"
      ],
      "metadata": {
        "id": "kQDzUnm22_vX",
        "colab": {
          "base_uri": "https://localhost:8080/"
        },
        "outputId": "1ca3f5e0-53ae-42c7-ad8d-9896967f6cd2"
      },
      "execution_count": null,
      "outputs": [
        {
          "output_type": "stream",
          "name": "stdout",
          "text": [
            "Drive already mounted at /content/drive; to attempt to forcibly remount, call drive.mount(\"/content/drive\", force_remount=True).\n"
          ]
        }
      ]
    },
    {
      "cell_type": "code",
      "source": [
        "new_df = pd.read_csv('/content/drive/MyDrive/Capstone/en-de-trans_sentiments.tsv', sep=\"\\t\")\n",
        "\n",
        "new_df.groupby(['sent_gold', 'sent_en']).count().reset_index()"
      ],
      "metadata": {
        "id": "ZiUtgOQO2Yj0",
        "colab": {
          "base_uri": "https://localhost:8080/",
          "height": 331
        },
        "outputId": "a1b37419-3f45-4fce-c438-36360ecd1598"
      },
      "execution_count": null,
      "outputs": [
        {
          "output_type": "execute_result",
          "data": {
            "text/plain": [
              "   sent_gold  sent_en  de_gold    en  de_trans  sent_trans\n",
              "0        0.0      0.0      482   482       482         482\n",
              "1        0.0      1.0      820   820       820         820\n",
              "2        0.0      2.0      136   136       136         136\n",
              "3        1.0      0.0     1288  1288      1288        1288\n",
              "4        1.0      1.0     4890  4890      4890        4890\n",
              "5        1.0      2.0      561   561       561         561\n",
              "6        2.0      0.0      346   346       346         346\n",
              "7        2.0      1.0     1143  1143      1143        1143\n",
              "8        2.0      2.0      333   333       333         333"
            ],
            "text/html": [
              "\n",
              "  <div id=\"df-6ddec704-18d8-4b28-aac8-8c957dc8d382\">\n",
              "    <div class=\"colab-df-container\">\n",
              "      <div>\n",
              "<style scoped>\n",
              "    .dataframe tbody tr th:only-of-type {\n",
              "        vertical-align: middle;\n",
              "    }\n",
              "\n",
              "    .dataframe tbody tr th {\n",
              "        vertical-align: top;\n",
              "    }\n",
              "\n",
              "    .dataframe thead th {\n",
              "        text-align: right;\n",
              "    }\n",
              "</style>\n",
              "<table border=\"1\" class=\"dataframe\">\n",
              "  <thead>\n",
              "    <tr style=\"text-align: right;\">\n",
              "      <th></th>\n",
              "      <th>sent_gold</th>\n",
              "      <th>sent_en</th>\n",
              "      <th>de_gold</th>\n",
              "      <th>en</th>\n",
              "      <th>de_trans</th>\n",
              "      <th>sent_trans</th>\n",
              "    </tr>\n",
              "  </thead>\n",
              "  <tbody>\n",
              "    <tr>\n",
              "      <th>0</th>\n",
              "      <td>0.0</td>\n",
              "      <td>0.0</td>\n",
              "      <td>482</td>\n",
              "      <td>482</td>\n",
              "      <td>482</td>\n",
              "      <td>482</td>\n",
              "    </tr>\n",
              "    <tr>\n",
              "      <th>1</th>\n",
              "      <td>0.0</td>\n",
              "      <td>1.0</td>\n",
              "      <td>820</td>\n",
              "      <td>820</td>\n",
              "      <td>820</td>\n",
              "      <td>820</td>\n",
              "    </tr>\n",
              "    <tr>\n",
              "      <th>2</th>\n",
              "      <td>0.0</td>\n",
              "      <td>2.0</td>\n",
              "      <td>136</td>\n",
              "      <td>136</td>\n",
              "      <td>136</td>\n",
              "      <td>136</td>\n",
              "    </tr>\n",
              "    <tr>\n",
              "      <th>3</th>\n",
              "      <td>1.0</td>\n",
              "      <td>0.0</td>\n",
              "      <td>1288</td>\n",
              "      <td>1288</td>\n",
              "      <td>1288</td>\n",
              "      <td>1288</td>\n",
              "    </tr>\n",
              "    <tr>\n",
              "      <th>4</th>\n",
              "      <td>1.0</td>\n",
              "      <td>1.0</td>\n",
              "      <td>4890</td>\n",
              "      <td>4890</td>\n",
              "      <td>4890</td>\n",
              "      <td>4890</td>\n",
              "    </tr>\n",
              "    <tr>\n",
              "      <th>5</th>\n",
              "      <td>1.0</td>\n",
              "      <td>2.0</td>\n",
              "      <td>561</td>\n",
              "      <td>561</td>\n",
              "      <td>561</td>\n",
              "      <td>561</td>\n",
              "    </tr>\n",
              "    <tr>\n",
              "      <th>6</th>\n",
              "      <td>2.0</td>\n",
              "      <td>0.0</td>\n",
              "      <td>346</td>\n",
              "      <td>346</td>\n",
              "      <td>346</td>\n",
              "      <td>346</td>\n",
              "    </tr>\n",
              "    <tr>\n",
              "      <th>7</th>\n",
              "      <td>2.0</td>\n",
              "      <td>1.0</td>\n",
              "      <td>1143</td>\n",
              "      <td>1143</td>\n",
              "      <td>1143</td>\n",
              "      <td>1143</td>\n",
              "    </tr>\n",
              "    <tr>\n",
              "      <th>8</th>\n",
              "      <td>2.0</td>\n",
              "      <td>2.0</td>\n",
              "      <td>333</td>\n",
              "      <td>333</td>\n",
              "      <td>333</td>\n",
              "      <td>333</td>\n",
              "    </tr>\n",
              "  </tbody>\n",
              "</table>\n",
              "</div>\n",
              "      <button class=\"colab-df-convert\" onclick=\"convertToInteractive('df-6ddec704-18d8-4b28-aac8-8c957dc8d382')\"\n",
              "              title=\"Convert this dataframe to an interactive table.\"\n",
              "              style=\"display:none;\">\n",
              "        \n",
              "  <svg xmlns=\"http://www.w3.org/2000/svg\" height=\"24px\"viewBox=\"0 0 24 24\"\n",
              "       width=\"24px\">\n",
              "    <path d=\"M0 0h24v24H0V0z\" fill=\"none\"/>\n",
              "    <path d=\"M18.56 5.44l.94 2.06.94-2.06 2.06-.94-2.06-.94-.94-2.06-.94 2.06-2.06.94zm-11 1L8.5 8.5l.94-2.06 2.06-.94-2.06-.94L8.5 2.5l-.94 2.06-2.06.94zm10 10l.94 2.06.94-2.06 2.06-.94-2.06-.94-.94-2.06-.94 2.06-2.06.94z\"/><path d=\"M17.41 7.96l-1.37-1.37c-.4-.4-.92-.59-1.43-.59-.52 0-1.04.2-1.43.59L10.3 9.45l-7.72 7.72c-.78.78-.78 2.05 0 2.83L4 21.41c.39.39.9.59 1.41.59.51 0 1.02-.2 1.41-.59l7.78-7.78 2.81-2.81c.8-.78.8-2.07 0-2.86zM5.41 20L4 18.59l7.72-7.72 1.47 1.35L5.41 20z\"/>\n",
              "  </svg>\n",
              "      </button>\n",
              "      \n",
              "  <style>\n",
              "    .colab-df-container {\n",
              "      display:flex;\n",
              "      flex-wrap:wrap;\n",
              "      gap: 12px;\n",
              "    }\n",
              "\n",
              "    .colab-df-convert {\n",
              "      background-color: #E8F0FE;\n",
              "      border: none;\n",
              "      border-radius: 50%;\n",
              "      cursor: pointer;\n",
              "      display: none;\n",
              "      fill: #1967D2;\n",
              "      height: 32px;\n",
              "      padding: 0 0 0 0;\n",
              "      width: 32px;\n",
              "    }\n",
              "\n",
              "    .colab-df-convert:hover {\n",
              "      background-color: #E2EBFA;\n",
              "      box-shadow: 0px 1px 2px rgba(60, 64, 67, 0.3), 0px 1px 3px 1px rgba(60, 64, 67, 0.15);\n",
              "      fill: #174EA6;\n",
              "    }\n",
              "\n",
              "    [theme=dark] .colab-df-convert {\n",
              "      background-color: #3B4455;\n",
              "      fill: #D2E3FC;\n",
              "    }\n",
              "\n",
              "    [theme=dark] .colab-df-convert:hover {\n",
              "      background-color: #434B5C;\n",
              "      box-shadow: 0px 1px 3px 1px rgba(0, 0, 0, 0.15);\n",
              "      filter: drop-shadow(0px 1px 2px rgba(0, 0, 0, 0.3));\n",
              "      fill: #FFFFFF;\n",
              "    }\n",
              "  </style>\n",
              "\n",
              "      <script>\n",
              "        const buttonEl =\n",
              "          document.querySelector('#df-6ddec704-18d8-4b28-aac8-8c957dc8d382 button.colab-df-convert');\n",
              "        buttonEl.style.display =\n",
              "          google.colab.kernel.accessAllowed ? 'block' : 'none';\n",
              "\n",
              "        async function convertToInteractive(key) {\n",
              "          const element = document.querySelector('#df-6ddec704-18d8-4b28-aac8-8c957dc8d382');\n",
              "          const dataTable =\n",
              "            await google.colab.kernel.invokeFunction('convertToInteractive',\n",
              "                                                     [key], {});\n",
              "          if (!dataTable) return;\n",
              "\n",
              "          const docLinkHtml = 'Like what you see? Visit the ' +\n",
              "            '<a target=\"_blank\" href=https://colab.research.google.com/notebooks/data_table.ipynb>data table notebook</a>'\n",
              "            + ' to learn more about interactive tables.';\n",
              "          element.innerHTML = '';\n",
              "          dataTable['output_type'] = 'display_data';\n",
              "          await google.colab.output.renderOutput(dataTable, element);\n",
              "          const docLink = document.createElement('div');\n",
              "          docLink.innerHTML = docLinkHtml;\n",
              "          element.appendChild(docLink);\n",
              "        }\n",
              "      </script>\n",
              "    </div>\n",
              "  </div>\n",
              "  "
            ]
          },
          "metadata": {},
          "execution_count": 5
        }
      ]
    },
    {
      "cell_type": "code",
      "source": [
        "new_df.columns\n",
        "\n",
        "#len(new_df)\n",
        "\n",
        "#new_df.head\n",
        "\n",
        "new_df"
      ],
      "metadata": {
        "id": "Fz0j1kWV4cDa",
        "colab": {
          "base_uri": "https://localhost:8080/",
          "height": 423
        },
        "outputId": "4ea9e8b9-c86b-4ed9-ecaa-53fd87c55b90"
      },
      "execution_count": null,
      "outputs": [
        {
          "output_type": "execute_result",
          "data": {
            "text/plain": [
              "                                             de_gold  \\\n",
              "0     Na schön, ich denke, dieses Mal wird es gehen.   \n",
              "1                     Was mache ich hier eigentlich?   \n",
              "2                      Die kommen hier herein und...   \n",
              "3                                         Mal sehen.   \n",
              "4                             Ich hoffe, ich habe...   \n",
              "...                                              ...   \n",
              "9995                                     Das wär' s.   \n",
              "9996                     Ihre Bestellung ist fertig.   \n",
              "9997                                Bitte vorfahren.   \n",
              "9998                               - Das ging flott.   \n",
              "9999                              - Es ist Fastfood.   \n",
              "\n",
              "                                         en  \\\n",
              "0        Well, I suppose it' il be alright.   \n",
              "1     What the hell am I doing around here?   \n",
              "2                  They walk in here and...   \n",
              "3                               Let' s see.   \n",
              "4                           I hope I got...   \n",
              "...                                     ...   \n",
              "9995                            That' s it.   \n",
              "9996                   Your order' s ready.   \n",
              "9997                          Pull forward.   \n",
              "9998                  That' s pretty quick.   \n",
              "9999                         Anything else?   \n",
              "\n",
              "                                   de_trans  sent_gold  sent_en  sent_trans  \n",
              "0     Nun, ich nehme an, es ist in Ordnung.        2.0      1.0         1.0  \n",
              "1            Was zum Teufel mache ich hier?        1.0      0.0         1.0  \n",
              "2                Sie gehen hier rein und...        1.0      1.0         1.0  \n",
              "3                                Mal sehen.        1.0      1.0         1.0  \n",
              "4                    Ich hoffe, ich habe...        1.0      1.0         1.0  \n",
              "...                                     ...        ...      ...         ...  \n",
              "9995                             Das war's.        1.0      1.0         1.0  \n",
              "9996           Deine Bestellung ist fertig.        1.0      1.0         1.0  \n",
              "9997                      Zieht nach vorne.        1.0      1.0         1.0  \n",
              "9998             Das geht ziemlich schnell.        0.0      2.0         1.0  \n",
              "9999                                    NaN        NaN      NaN         NaN  \n",
              "\n",
              "[10000 rows x 6 columns]"
            ],
            "text/html": [
              "\n",
              "  <div id=\"df-6a8ac830-89b0-4ccf-bb86-728b7cac8804\">\n",
              "    <div class=\"colab-df-container\">\n",
              "      <div>\n",
              "<style scoped>\n",
              "    .dataframe tbody tr th:only-of-type {\n",
              "        vertical-align: middle;\n",
              "    }\n",
              "\n",
              "    .dataframe tbody tr th {\n",
              "        vertical-align: top;\n",
              "    }\n",
              "\n",
              "    .dataframe thead th {\n",
              "        text-align: right;\n",
              "    }\n",
              "</style>\n",
              "<table border=\"1\" class=\"dataframe\">\n",
              "  <thead>\n",
              "    <tr style=\"text-align: right;\">\n",
              "      <th></th>\n",
              "      <th>de_gold</th>\n",
              "      <th>en</th>\n",
              "      <th>de_trans</th>\n",
              "      <th>sent_gold</th>\n",
              "      <th>sent_en</th>\n",
              "      <th>sent_trans</th>\n",
              "    </tr>\n",
              "  </thead>\n",
              "  <tbody>\n",
              "    <tr>\n",
              "      <th>0</th>\n",
              "      <td>Na schön, ich denke, dieses Mal wird es gehen.</td>\n",
              "      <td>Well, I suppose it' il be alright.</td>\n",
              "      <td>Nun, ich nehme an, es ist in Ordnung.</td>\n",
              "      <td>2.0</td>\n",
              "      <td>1.0</td>\n",
              "      <td>1.0</td>\n",
              "    </tr>\n",
              "    <tr>\n",
              "      <th>1</th>\n",
              "      <td>Was mache ich hier eigentlich?</td>\n",
              "      <td>What the hell am I doing around here?</td>\n",
              "      <td>Was zum Teufel mache ich hier?</td>\n",
              "      <td>1.0</td>\n",
              "      <td>0.0</td>\n",
              "      <td>1.0</td>\n",
              "    </tr>\n",
              "    <tr>\n",
              "      <th>2</th>\n",
              "      <td>Die kommen hier herein und...</td>\n",
              "      <td>They walk in here and...</td>\n",
              "      <td>Sie gehen hier rein und...</td>\n",
              "      <td>1.0</td>\n",
              "      <td>1.0</td>\n",
              "      <td>1.0</td>\n",
              "    </tr>\n",
              "    <tr>\n",
              "      <th>3</th>\n",
              "      <td>Mal sehen.</td>\n",
              "      <td>Let' s see.</td>\n",
              "      <td>Mal sehen.</td>\n",
              "      <td>1.0</td>\n",
              "      <td>1.0</td>\n",
              "      <td>1.0</td>\n",
              "    </tr>\n",
              "    <tr>\n",
              "      <th>4</th>\n",
              "      <td>Ich hoffe, ich habe...</td>\n",
              "      <td>I hope I got...</td>\n",
              "      <td>Ich hoffe, ich habe...</td>\n",
              "      <td>1.0</td>\n",
              "      <td>1.0</td>\n",
              "      <td>1.0</td>\n",
              "    </tr>\n",
              "    <tr>\n",
              "      <th>...</th>\n",
              "      <td>...</td>\n",
              "      <td>...</td>\n",
              "      <td>...</td>\n",
              "      <td>...</td>\n",
              "      <td>...</td>\n",
              "      <td>...</td>\n",
              "    </tr>\n",
              "    <tr>\n",
              "      <th>9995</th>\n",
              "      <td>Das wär' s.</td>\n",
              "      <td>That' s it.</td>\n",
              "      <td>Das war's.</td>\n",
              "      <td>1.0</td>\n",
              "      <td>1.0</td>\n",
              "      <td>1.0</td>\n",
              "    </tr>\n",
              "    <tr>\n",
              "      <th>9996</th>\n",
              "      <td>Ihre Bestellung ist fertig.</td>\n",
              "      <td>Your order' s ready.</td>\n",
              "      <td>Deine Bestellung ist fertig.</td>\n",
              "      <td>1.0</td>\n",
              "      <td>1.0</td>\n",
              "      <td>1.0</td>\n",
              "    </tr>\n",
              "    <tr>\n",
              "      <th>9997</th>\n",
              "      <td>Bitte vorfahren.</td>\n",
              "      <td>Pull forward.</td>\n",
              "      <td>Zieht nach vorne.</td>\n",
              "      <td>1.0</td>\n",
              "      <td>1.0</td>\n",
              "      <td>1.0</td>\n",
              "    </tr>\n",
              "    <tr>\n",
              "      <th>9998</th>\n",
              "      <td>- Das ging flott.</td>\n",
              "      <td>That' s pretty quick.</td>\n",
              "      <td>Das geht ziemlich schnell.</td>\n",
              "      <td>0.0</td>\n",
              "      <td>2.0</td>\n",
              "      <td>1.0</td>\n",
              "    </tr>\n",
              "    <tr>\n",
              "      <th>9999</th>\n",
              "      <td>- Es ist Fastfood.</td>\n",
              "      <td>Anything else?</td>\n",
              "      <td>NaN</td>\n",
              "      <td>NaN</td>\n",
              "      <td>NaN</td>\n",
              "      <td>NaN</td>\n",
              "    </tr>\n",
              "  </tbody>\n",
              "</table>\n",
              "<p>10000 rows × 6 columns</p>\n",
              "</div>\n",
              "      <button class=\"colab-df-convert\" onclick=\"convertToInteractive('df-6a8ac830-89b0-4ccf-bb86-728b7cac8804')\"\n",
              "              title=\"Convert this dataframe to an interactive table.\"\n",
              "              style=\"display:none;\">\n",
              "        \n",
              "  <svg xmlns=\"http://www.w3.org/2000/svg\" height=\"24px\"viewBox=\"0 0 24 24\"\n",
              "       width=\"24px\">\n",
              "    <path d=\"M0 0h24v24H0V0z\" fill=\"none\"/>\n",
              "    <path d=\"M18.56 5.44l.94 2.06.94-2.06 2.06-.94-2.06-.94-.94-2.06-.94 2.06-2.06.94zm-11 1L8.5 8.5l.94-2.06 2.06-.94-2.06-.94L8.5 2.5l-.94 2.06-2.06.94zm10 10l.94 2.06.94-2.06 2.06-.94-2.06-.94-.94-2.06-.94 2.06-2.06.94z\"/><path d=\"M17.41 7.96l-1.37-1.37c-.4-.4-.92-.59-1.43-.59-.52 0-1.04.2-1.43.59L10.3 9.45l-7.72 7.72c-.78.78-.78 2.05 0 2.83L4 21.41c.39.39.9.59 1.41.59.51 0 1.02-.2 1.41-.59l7.78-7.78 2.81-2.81c.8-.78.8-2.07 0-2.86zM5.41 20L4 18.59l7.72-7.72 1.47 1.35L5.41 20z\"/>\n",
              "  </svg>\n",
              "      </button>\n",
              "      \n",
              "  <style>\n",
              "    .colab-df-container {\n",
              "      display:flex;\n",
              "      flex-wrap:wrap;\n",
              "      gap: 12px;\n",
              "    }\n",
              "\n",
              "    .colab-df-convert {\n",
              "      background-color: #E8F0FE;\n",
              "      border: none;\n",
              "      border-radius: 50%;\n",
              "      cursor: pointer;\n",
              "      display: none;\n",
              "      fill: #1967D2;\n",
              "      height: 32px;\n",
              "      padding: 0 0 0 0;\n",
              "      width: 32px;\n",
              "    }\n",
              "\n",
              "    .colab-df-convert:hover {\n",
              "      background-color: #E2EBFA;\n",
              "      box-shadow: 0px 1px 2px rgba(60, 64, 67, 0.3), 0px 1px 3px 1px rgba(60, 64, 67, 0.15);\n",
              "      fill: #174EA6;\n",
              "    }\n",
              "\n",
              "    [theme=dark] .colab-df-convert {\n",
              "      background-color: #3B4455;\n",
              "      fill: #D2E3FC;\n",
              "    }\n",
              "\n",
              "    [theme=dark] .colab-df-convert:hover {\n",
              "      background-color: #434B5C;\n",
              "      box-shadow: 0px 1px 3px 1px rgba(0, 0, 0, 0.15);\n",
              "      filter: drop-shadow(0px 1px 2px rgba(0, 0, 0, 0.3));\n",
              "      fill: #FFFFFF;\n",
              "    }\n",
              "  </style>\n",
              "\n",
              "      <script>\n",
              "        const buttonEl =\n",
              "          document.querySelector('#df-6a8ac830-89b0-4ccf-bb86-728b7cac8804 button.colab-df-convert');\n",
              "        buttonEl.style.display =\n",
              "          google.colab.kernel.accessAllowed ? 'block' : 'none';\n",
              "\n",
              "        async function convertToInteractive(key) {\n",
              "          const element = document.querySelector('#df-6a8ac830-89b0-4ccf-bb86-728b7cac8804');\n",
              "          const dataTable =\n",
              "            await google.colab.kernel.invokeFunction('convertToInteractive',\n",
              "                                                     [key], {});\n",
              "          if (!dataTable) return;\n",
              "\n",
              "          const docLinkHtml = 'Like what you see? Visit the ' +\n",
              "            '<a target=\"_blank\" href=https://colab.research.google.com/notebooks/data_table.ipynb>data table notebook</a>'\n",
              "            + ' to learn more about interactive tables.';\n",
              "          element.innerHTML = '';\n",
              "          dataTable['output_type'] = 'display_data';\n",
              "          await google.colab.output.renderOutput(dataTable, element);\n",
              "          const docLink = document.createElement('div');\n",
              "          docLink.innerHTML = docLinkHtml;\n",
              "          element.appendChild(docLink);\n",
              "        }\n",
              "      </script>\n",
              "    </div>\n",
              "  </div>\n",
              "  "
            ]
          },
          "metadata": {},
          "execution_count": 6
        }
      ]
    },
    {
      "cell_type": "code",
      "source": [
        "new_df.dropna(axis=1, how='any', thresh=None, subset=None, inplace=False)\n",
        "\n",
        "#new_df.fillna('')\n",
        "\n",
        "new_df = new_df.iloc[:-1 , :]"
      ],
      "metadata": {
        "id": "mwb5RYBpZhMJ"
      },
      "execution_count": null,
      "outputs": []
    },
    {
      "cell_type": "code",
      "source": [
        "#German Gold and German Translated\n",
        "\n",
        "# cm_gold_trans = confusion_matrix(new_df['sent_gold'], new_df['sent_trans'], labels=['positive', 'negative', 'neutral'])\n",
        "# cm_gold_trans = pd.crosstab(new_df['sent_gold'], new_df['sent_trans'], rownames=['de_gold'], colnames=['de_trans'])\n",
        "# sns.set(font_scale=1.2) \n",
        "# sns.heatmap(cm_gold_trans, annot=True, cbar = False, cmap = \"Reds\", fmt = 'g', annot_kws={\"size\": 15})\n",
        "# plt.show()\n",
        "\n",
        "cm_gold_trans = pd.crosstab(new_df['sent_gold'], new_df['sent_trans'], rownames=['de_gold'], colnames=['de_trans'])\n",
        "cm_gold_trans = cm_gold_trans.astype('float') / cm_gold_trans.sum(axis=1)[:, np.newaxis]\n",
        "\n",
        "sns.set(font_scale=1.2) \n",
        "sns.heatmap(round(cm_gold_trans,2), annot=True, cbar = False, cmap = \"Reds\", fmt = 'g', annot_kws={\"size\": 15})\n",
        "plt.show()\n",
        "\n",
        "total = 9999\n",
        "same_gt = 659 + 5702 + 859\n",
        "same_gt_per = round((same_gt/total*100),2)\n",
        "diff_gt = total - same_gt\n",
        "diff_gt_per = round((diff_gt/total*100),2)\n",
        "print(f'')\n",
        "print(f'Same Count: {same_gt} ({same_gt_per}%)')\n",
        "print(f'Different Count: {diff_gt} ({diff_gt_per}%)')"
      ],
      "metadata": {
        "id": "QJRRYpRd2v8D",
        "colab": {
          "base_uri": "https://localhost:8080/",
          "height": 396
        },
        "outputId": "bfbb89a3-91c6-4b7b-81fc-3f598eebbc83"
      },
      "execution_count": null,
      "outputs": [
        {
          "output_type": "stream",
          "name": "stderr",
          "text": [
            "<ipython-input-8-8b3f41b60fbd>:10: FutureWarning: Support for multi-dimensional indexing (e.g. `obj[:, None]`) is deprecated and will be removed in a future version.  Convert to a numpy array before indexing instead.\n",
            "  cm_gold_trans = cm_gold_trans.astype('float') / cm_gold_trans.sum(axis=1)[:, np.newaxis]\n"
          ]
        },
        {
          "output_type": "display_data",
          "data": {
            "text/plain": [
              "<Figure size 432x288 with 1 Axes>"
            ],
            "image/png": "[encoded data removed]"
          },
          "metadata": {}
        },
        {
          "output_type": "stream",
          "name": "stdout",
          "text": [
            "\n",
            "Same Count: 7220 (72.21%)\n",
            "Different Count: 2779 (27.79%)\n"
          ]
        }
      ]
    },
    {
      "cell_type": "code",
      "source": [
        "#English and German Translated\n",
        "\n",
        "cm_en_trans = pd.crosstab(new_df['sent_en'], new_df['sent_trans'], rownames=['en'], colnames=['de_trans'])\n",
        "cm_en_trans = cm_en_trans.astype('float') / cm_en_trans.sum(axis=1)[:, np.newaxis]\n",
        "\n",
        "sns.set(font_scale=1.2)\n",
        "sns.heatmap(round(cm_en_trans,2), annot=True, cbar = False, cmap = \"Reds\", fmt = 'g', annot_kws={\"size\": 15})\n",
        "plt.show()\n",
        "\n",
        "total = 9999\n",
        "same_et = 423 + 5127 + 345\n",
        "same_et_per = round((same_et/total*100),2)\n",
        "diff_et = total - same_et\n",
        "diff_et_per = round((diff_et/total*100),2)\n",
        "print(f'')\n",
        "print(f'Same Count: {same_et} ({same_et_per}%)')\n",
        "print(f'Different Count: {diff_et} ({diff_et_per}%)')"
      ],
      "metadata": {
        "id": "G2Y1VXRJ3y9e",
        "colab": {
          "base_uri": "https://localhost:8080/",
          "height": 396
        },
        "outputId": "52872f90-fbe9-4cf3-aa45-309bc5704112"
      },
      "execution_count": null,
      "outputs": [
        {
          "output_type": "stream",
          "name": "stderr",
          "text": [
            "<ipython-input-9-ba53259b0fab>:4: FutureWarning: Support for multi-dimensional indexing (e.g. `obj[:, None]`) is deprecated and will be removed in a future version.  Convert to a numpy array before indexing instead.\n",
            "  cm_en_trans = cm_en_trans.astype('float') / cm_en_trans.sum(axis=1)[:, np.newaxis]\n"
          ]
        },
        {
          "output_type": "display_data",
          "data": {
            "text/plain": [
              "<Figure size 432x288 with 1 Axes>"
            ],
            "image/png": "[encoded data removed]"
          },
          "metadata": {}
        },
        {
          "output_type": "stream",
          "name": "stdout",
          "text": [
            "\n",
            "Same Count: 5895 (58.96%)\n",
            "Different Count: 4104 (41.04%)\n"
          ]
        }
      ]
    },
    {
      "cell_type": "code",
      "source": [
        "#English and German Gold\n",
        "\n",
        "cm_en_gold = pd.crosstab(new_df['sent_en'], new_df['sent_gold'], rownames=['en'], colnames=['de_gold'])\n",
        "cm_en_gold = cm_en_gold.astype('float') / cm_en_gold.sum(axis=1)[:, np.newaxis]\n",
        "\n",
        "sns.set(font_scale=1.2)\n",
        "sns.heatmap(round(cm_en_gold,2), annot=True, cbar = False, cmap = \"Reds\", fmt = 'g', annot_kws={\"size\": 15})\n",
        "plt.show()\n",
        "\n",
        "total = 9999\n",
        "same_eg = 482 + 4890 + 333\n",
        "same_eg_per = round((same_eg/total*100),2)\n",
        "diff_eg = total - same_eg\n",
        "diff_eg_per = round((diff_eg/total*100),2)\n",
        "print(f'')\n",
        "print(f'Same Count: {same_eg} ({same_eg_per}%)')\n",
        "print(f'Different Count: {diff_eg} ({diff_eg_per}%)')"
      ],
      "metadata": {
        "id": "8yS9jyNh5TGY",
        "colab": {
          "base_uri": "https://localhost:8080/",
          "height": 396
        },
        "outputId": "7de40e55-cff1-4e8d-9a6a-c6aa951c6ba4"
      },
      "execution_count": null,
      "outputs": [
        {
          "output_type": "stream",
          "name": "stderr",
          "text": [
            "<ipython-input-10-07d02af34d0a>:4: FutureWarning: Support for multi-dimensional indexing (e.g. `obj[:, None]`) is deprecated and will be removed in a future version.  Convert to a numpy array before indexing instead.\n",
            "  cm_en_gold = cm_en_gold.astype('float') / cm_en_gold.sum(axis=1)[:, np.newaxis]\n"
          ]
        },
        {
          "output_type": "display_data",
          "data": {
            "text/plain": [
              "<Figure size 432x288 with 1 Axes>"
            ],
            "image/png": "[encoded data removed]"
          },
          "metadata": {}
        },
        {
          "output_type": "stream",
          "name": "stdout",
          "text": [
            "\n",
            "Same Count: 5705 (57.06%)\n",
            "Different Count: 4294 (42.94%)\n"
          ]
        }
      ]
    },
    {
      "cell_type": "code",
      "source": [
        "print(f'\\033[1mGerman Gold-German Translated\\033[0m')\n",
        "print(f'Same: {same_gt} ({same_gt_per}%)')\n",
        "print(f'Different: {diff_gt} ({diff_gt_per}%)')\n",
        "print(f'')\n",
        "print(f'\\033[1mEnglish-German Translated\\033[0m')\n",
        "print(f'Same: {same_et} ({same_et_per}%)')\n",
        "print(f'Different: {diff_et} ({diff_et_per}%)')\n",
        "print(f'')\n",
        "print(f'\\033[1mEngish-German Gold\\033[0m')\n",
        "print(f'Same: {same_eg} ({same_eg_per}%)')\n",
        "print(f'Different: {diff_eg} ({diff_eg_per}%)')"
      ],
      "metadata": {
        "id": "SCOFgRckNGiq",
        "colab": {
          "base_uri": "https://localhost:8080/"
        },
        "outputId": "7c355273-1368-4856-aafd-987e136e31a0"
      },
      "execution_count": null,
      "outputs": [
        {
          "output_type": "stream",
          "name": "stdout",
          "text": [
            "\u001b[1mGerman Gold-German Translated\u001b[0m\n",
            "Same: 7220 (72.21%)\n",
            "Different: 2779 (27.79%)\n",
            "\n",
            "\u001b[1mEnglish-German Translated\u001b[0m\n",
            "Same: 5895 (58.96%)\n",
            "Different: 4104 (41.04%)\n",
            "\n",
            "\u001b[1mEngish-German Gold\u001b[0m\n",
            "Same: 5705 (57.06%)\n",
            "Different: 4294 (42.94%)\n"
          ]
        }
      ]
    },
    {
      "cell_type": "code",
      "source": [
        "# new_df['de_gold'] = new_df['de_gold'].str.replace('\\d+', '')\n",
        "# new_df['de_trans'] = new_df['de_trans'].str.replace('\\d+', '')\n",
        "# new_df['en'] = new_df['en'].str.replace('\\d+', '')"
      ],
      "metadata": {
        "id": "0h38797-UpDL"
      },
      "execution_count": null,
      "outputs": []
    },
    {
      "cell_type": "code",
      "source": [
        "new_df['De_Sentiment_Match'] = new_df['sent_gold'] == new_df['sent_trans']\n",
        "\n",
        "new_df['DeG_En_Sentiment_Match'] = new_df['sent_gold'] == new_df['sent_en']\n",
        "\n",
        "new_df['DeT_En_Sentiment_Match'] = new_df['sent_en'] == new_df['sent_trans']\n",
        "\n",
        "# new_df"
      ],
      "metadata": {
        "id": "oIC0HMtKuRP7"
      },
      "execution_count": null,
      "outputs": []
    },
    {
      "cell_type": "code",
      "source": [
        "new_df['Exact_String'] = np.where((new_df['de_gold'] == new_df['de_trans']) & (\n",
        "    new_df['de_gold'] != new_df['en']), True, False)"
      ],
      "metadata": {
        "id": "_R-PpYzl5Zrq"
      },
      "execution_count": null,
      "outputs": []
    },
    {
      "cell_type": "code",
      "source": [
        "#Counts for exact string matching\n",
        "\n",
        "total_count = len(new_df)\n",
        "correct_str_count = len(new_df[new_df.Exact_String == True])\n",
        "incorrect_str_count = len(new_df[new_df.Exact_String == False])\n",
        "correct_str_per = round((len(new_df[new_df.Exact_String == True])/total_count)*100,2)\n",
        "incorrect_str_per = round((len(new_df[new_df.Exact_String == False])/total_count)*100,2)\n",
        "\n",
        "print(f'\\033[1mExact string matching:\\033[0m')\n",
        "print(f'Total correct: {correct_str_count} ({correct_str_per}%)')\n",
        "print(f'Total incorrect: {incorrect_str_count} ({incorrect_str_per}%)')"
      ],
      "metadata": {
        "id": "78qogMb5I-YE",
        "colab": {
          "base_uri": "https://localhost:8080/"
        },
        "outputId": "d2eee4b2-f4c7-4a14-9d28-1a1f483587ba"
      },
      "execution_count": null,
      "outputs": [
        {
          "output_type": "stream",
          "name": "stdout",
          "text": [
            "\u001b[1mExact string matching:\u001b[0m\n",
            "Total correct: 1332 (13.32%)\n",
            "Total incorrect: 8667 (86.68%)\n"
          ]
        }
      ]
    },
    {
      "cell_type": "code",
      "source": [
        "#Rouge 1 scores\n",
        "\n",
        "scorer = rouge_scorer.RougeScorer(['rouge1'])\n",
        "\n",
        "results_1 = {'Precision_1': [], 'Recall_1': [], 'fmeasure_1': []}\n",
        "\n",
        "for (i, sentence) in new_df.iterrows():\n",
        "    score = scorer.score(sentence['de_gold'], sentence['de_trans'])\n",
        "    precision_1, recall_1, fmeasure_1 = score['rouge1']\n",
        "    results_1['Precision_1'].append(precision_1)\n",
        "    results_1['Recall_1'].append(recall_1)\n",
        "    results_1['fmeasure_1'].append(fmeasure_1)\n",
        "\n",
        "results_df_1 = pd.DataFrame(results_1)\n",
        "\n",
        "# results_df"
      ],
      "metadata": {
        "id": "jJvIWQMC_EIf"
      },
      "execution_count": null,
      "outputs": []
    },
    {
      "cell_type": "code",
      "source": [
        "#Rouge 4 scores\n",
        "\n",
        "scorer = rouge_scorer.RougeScorer(['rouge4'])\n",
        "\n",
        "results_4 = {'Precision_4': [], 'Recall_4': [], 'fmeasure_4': []}\n",
        "\n",
        "for (i, sentence) in new_df.iterrows():\n",
        "    score = scorer.score(sentence['de_gold'], sentence['de_trans'])\n",
        "    precision4, recall4, fmeasure4 = score['rouge4']\n",
        "    results_4['Precision_4'].append(precision4)\n",
        "    results_4['Recall_4'].append(recall4)\n",
        "    results_4['fmeasure_4'].append(fmeasure4)\n",
        "\n",
        "results_df_4 = pd.DataFrame(results_4)\n",
        "\n",
        "# results_df_4"
      ],
      "metadata": {
        "id": "XdAMdywUDGsv"
      },
      "execution_count": null,
      "outputs": []
    },
    {
      "cell_type": "code",
      "source": [
        "#Rouge L scores\n",
        "\n",
        "scorer = rouge_scorer.RougeScorer(['rougeL'])\n",
        "\n",
        "results_L = {'Precision_L': [], 'Recall_L': [], 'fmeasure_L': []}\n",
        "\n",
        "for (i, sentence) in new_df.iterrows():\n",
        "    score = scorer.score(sentence['de_gold'], sentence['de_trans'])\n",
        "    precision_L, recall_L, fmeasure_L = score['rougeL']\n",
        "    results_L['Precision_L'].append(precision_L)\n",
        "    results_L['Recall_L'].append(recall_L)\n",
        "    results_L['fmeasure_L'].append(fmeasure_L)\n",
        "\n",
        "results_df_L = pd.DataFrame(results_L)\n",
        "\n",
        "# results_df_L"
      ],
      "metadata": {
        "id": "OyaiqCAPELXm"
      },
      "execution_count": null,
      "outputs": []
    },
    {
      "cell_type": "code",
      "source": [
        "#Comparison of Rouge 1, 4, and L scores\n",
        "\n",
        "results_compare = pd.concat([results_df_1, results_df_4, results_df_L], axis=1, ignore_index=False)\n",
        "\n",
        "# results_compare"
      ],
      "metadata": {
        "id": "DbT3b6TEEo1M"
      },
      "execution_count": null,
      "outputs": []
    },
    {
      "cell_type": "code",
      "source": [
        "# new_df.iloc[9998]"
      ],
      "metadata": {
        "id": "EggF9ZahY47M"
      },
      "execution_count": null,
      "outputs": []
    },
    {
      "cell_type": "code",
      "source": [
        "new_df.to_csv('correct_evals.tsv', sep=\"\\t\")"
      ],
      "metadata": {
        "id": "0MEUncxlMLaE"
      },
      "execution_count": null,
      "outputs": []
    },
    {
      "cell_type": "code",
      "source": [
        "nr_df = pd.concat([new_df, results_df_1, results_df_4, results_df_L], axis=1, ignore_index=False)\n",
        "\n",
        "# nr_df[9990:]"
      ],
      "metadata": {
        "id": "_SM4NQGEpL84"
      },
      "execution_count": null,
      "outputs": []
    },
    {
      "cell_type": "code",
      "source": [
        "# nr_df.dtypes"
      ],
      "metadata": {
        "id": "u0hZ3Rm4UzT2"
      },
      "execution_count": null,
      "outputs": []
    },
    {
      "cell_type": "code",
      "source": [
        "#GT-GG Sentiment Match-Exact String Correlation\n",
        "#The pairwise correlation here is not specified as Pearson, Spearman, or Kendall\n",
        "\n",
        "print(f'\\033[1mGT-GG Sentiment Match-Exact String Correlation\\033[0m',nr_df['De_Sentiment_Match'].corr(nr_df['Exact_String']))"
      ],
      "metadata": {
        "colab": {
          "base_uri": "https://localhost:8080/"
        },
        "id": "TYX5dFFCWDny",
        "outputId": "8ff65e2d-1b7c-46b3-dca0-f57e2a0190a5"
      },
      "execution_count": null,
      "outputs": [
        {
          "output_type": "stream",
          "name": "stdout",
          "text": [
            "\u001b[1mGT-GG Sentiment Match-Exact String Correlation\u001b[0m 0.24321669839362667\n"
          ]
        }
      ]
    },
    {
      "cell_type": "code",
      "source": [
        "# some_var = (nr_df.groupby(['De_Sentiment_Match'], as_index=False).mean()\n",
        "#             .groupby('De_Sentiment_Match')['Exact_String'].mean())\n",
        "\n",
        "new_df.groupby(['De_Sentiment_Match', 'Exact_String']).count().reset_index()"
      ],
      "metadata": {
        "id": "cVkl8mjrOosM",
        "colab": {
          "base_uri": "https://localhost:8080/",
          "height": 143
        },
        "outputId": "563aee20-020a-4149-8a7f-13be2fa57f8c"
      },
      "execution_count": null,
      "outputs": [
        {
          "output_type": "execute_result",
          "data": {
            "text/plain": [
              "   De_Sentiment_Match  Exact_String  de_gold    en  de_trans  sent_gold  \\\n",
              "0               False         False     2779  2779      2779       2779   \n",
              "1                True         False     5888  5888      5888       5888   \n",
              "2                True          True     1332  1332      1332       1332   \n",
              "\n",
              "   sent_en  sent_trans  DeG_En_Sentiment_Match  DeT_En_Sentiment_Match  \n",
              "0     2779        2779                    2779                    2779  \n",
              "1     5888        5888                    5888                    5888  \n",
              "2     1332        1332                    1332                    1332  "
            ],
            "text/html": [
              "\n",
              "  <div id=\"df-bdd0a5e0-332d-45f2-ba79-43e7b9c0887e\">\n",
              "    <div class=\"colab-df-container\">\n",
              "      <div>\n",
              "<style scoped>\n",
              "    .dataframe tbody tr th:only-of-type {\n",
              "        vertical-align: middle;\n",
              "    }\n",
              "\n",
              "    .dataframe tbody tr th {\n",
              "        vertical-align: top;\n",
              "    }\n",
              "\n",
              "    .dataframe thead th {\n",
              "        text-align: right;\n",
              "    }\n",
              "</style>\n",
              "<table border=\"1\" class=\"dataframe\">\n",
              "  <thead>\n",
              "    <tr style=\"text-align: right;\">\n",
              "      <th></th>\n",
              "      <th>De_Sentiment_Match</th>\n",
              "      <th>Exact_String</th>\n",
              "      <th>de_gold</th>\n",
              "      <th>en</th>\n",
              "      <th>de_trans</th>\n",
              "      <th>sent_gold</th>\n",
              "      <th>sent_en</th>\n",
              "      <th>sent_trans</th>\n",
              "      <th>DeG_En_Sentiment_Match</th>\n",
              "      <th>DeT_En_Sentiment_Match</th>\n",
              "    </tr>\n",
              "  </thead>\n",
              "  <tbody>\n",
              "    <tr>\n",
              "      <th>0</th>\n",
              "      <td>False</td>\n",
              "      <td>False</td>\n",
              "      <td>2779</td>\n",
              "      <td>2779</td>\n",
              "      <td>2779</td>\n",
              "      <td>2779</td>\n",
              "      <td>2779</td>\n",
              "      <td>2779</td>\n",
              "      <td>2779</td>\n",
              "      <td>2779</td>\n",
              "    </tr>\n",
              "    <tr>\n",
              "      <th>1</th>\n",
              "      <td>True</td>\n",
              "      <td>False</td>\n",
              "      <td>5888</td>\n",
              "      <td>5888</td>\n",
              "      <td>5888</td>\n",
              "      <td>5888</td>\n",
              "      <td>5888</td>\n",
              "      <td>5888</td>\n",
              "      <td>5888</td>\n",
              "      <td>5888</td>\n",
              "    </tr>\n",
              "    <tr>\n",
              "      <th>2</th>\n",
              "      <td>True</td>\n",
              "      <td>True</td>\n",
              "      <td>1332</td>\n",
              "      <td>1332</td>\n",
              "      <td>1332</td>\n",
              "      <td>1332</td>\n",
              "      <td>1332</td>\n",
              "      <td>1332</td>\n",
              "      <td>1332</td>\n",
              "      <td>1332</td>\n",
              "    </tr>\n",
              "  </tbody>\n",
              "</table>\n",
              "</div>\n",
              "      <button class=\"colab-df-convert\" onclick=\"convertToInteractive('df-bdd0a5e0-332d-45f2-ba79-43e7b9c0887e')\"\n",
              "              title=\"Convert this dataframe to an interactive table.\"\n",
              "              style=\"display:none;\">\n",
              "        \n",
              "  <svg xmlns=\"http://www.w3.org/2000/svg\" height=\"24px\"viewBox=\"0 0 24 24\"\n",
              "       width=\"24px\">\n",
              "    <path d=\"M0 0h24v24H0V0z\" fill=\"none\"/>\n",
              "    <path d=\"M18.56 5.44l.94 2.06.94-2.06 2.06-.94-2.06-.94-.94-2.06-.94 2.06-2.06.94zm-11 1L8.5 8.5l.94-2.06 2.06-.94-2.06-.94L8.5 2.5l-.94 2.06-2.06.94zm10 10l.94 2.06.94-2.06 2.06-.94-2.06-.94-.94-2.06-.94 2.06-2.06.94z\"/><path d=\"M17.41 7.96l-1.37-1.37c-.4-.4-.92-.59-1.43-.59-.52 0-1.04.2-1.43.59L10.3 9.45l-7.72 7.72c-.78.78-.78 2.05 0 2.83L4 21.41c.39.39.9.59 1.41.59.51 0 1.02-.2 1.41-.59l7.78-7.78 2.81-2.81c.8-.78.8-2.07 0-2.86zM5.41 20L4 18.59l7.72-7.72 1.47 1.35L5.41 20z\"/>\n",
              "  </svg>\n",
              "      </button>\n",
              "      \n",
              "  <style>\n",
              "    .colab-df-container {\n",
              "      display:flex;\n",
              "      flex-wrap:wrap;\n",
              "      gap: 12px;\n",
              "    }\n",
              "\n",
              "    .colab-df-convert {\n",
              "      background-color: #E8F0FE;\n",
              "      border: none;\n",
              "      border-radius: 50%;\n",
              "      cursor: pointer;\n",
              "      display: none;\n",
              "      fill: #1967D2;\n",
              "      height: 32px;\n",
              "      padding: 0 0 0 0;\n",
              "      width: 32px;\n",
              "    }\n",
              "\n",
              "    .colab-df-convert:hover {\n",
              "      background-color: #E2EBFA;\n",
              "      box-shadow: 0px 1px 2px rgba(60, 64, 67, 0.3), 0px 1px 3px 1px rgba(60, 64, 67, 0.15);\n",
              "      fill: #174EA6;\n",
              "    }\n",
              "\n",
              "    [theme=dark] .colab-df-convert {\n",
              "      background-color: #3B4455;\n",
              "      fill: #D2E3FC;\n",
              "    }\n",
              "\n",
              "    [theme=dark] .colab-df-convert:hover {\n",
              "      background-color: #434B5C;\n",
              "      box-shadow: 0px 1px 3px 1px rgba(0, 0, 0, 0.15);\n",
              "      filter: drop-shadow(0px 1px 2px rgba(0, 0, 0, 0.3));\n",
              "      fill: #FFFFFF;\n",
              "    }\n",
              "  </style>\n",
              "\n",
              "      <script>\n",
              "        const buttonEl =\n",
              "          document.querySelector('#df-bdd0a5e0-332d-45f2-ba79-43e7b9c0887e button.colab-df-convert');\n",
              "        buttonEl.style.display =\n",
              "          google.colab.kernel.accessAllowed ? 'block' : 'none';\n",
              "\n",
              "        async function convertToInteractive(key) {\n",
              "          const element = document.querySelector('#df-bdd0a5e0-332d-45f2-ba79-43e7b9c0887e');\n",
              "          const dataTable =\n",
              "            await google.colab.kernel.invokeFunction('convertToInteractive',\n",
              "                                                     [key], {});\n",
              "          if (!dataTable) return;\n",
              "\n",
              "          const docLinkHtml = 'Like what you see? Visit the ' +\n",
              "            '<a target=\"_blank\" href=https://colab.research.google.com/notebooks/data_table.ipynb>data table notebook</a>'\n",
              "            + ' to learn more about interactive tables.';\n",
              "          element.innerHTML = '';\n",
              "          dataTable['output_type'] = 'display_data';\n",
              "          await google.colab.output.renderOutput(dataTable, element);\n",
              "          const docLink = document.createElement('div');\n",
              "          docLink.innerHTML = docLinkHtml;\n",
              "          element.appendChild(docLink);\n",
              "        }\n",
              "      </script>\n",
              "    </div>\n",
              "  </div>\n",
              "  "
            ]
          },
          "metadata": {},
          "execution_count": 25
        }
      ]
    },
    {
      "cell_type": "code",
      "source": [
        "# German Gold-German Translated P/R/F averages for ROUGE 1, 4, and L\n",
        "\n",
        "# avg_p1 = (nr_df['Precision_1'].mean())\n",
        "\n",
        "# avg_r1 = (nr_df['Recall_1'].mean())\n",
        "\n",
        "# avg_f1 = (nr_df['fmeasure_1'].mean())\n",
        "\n",
        "# avg_p4 = (nr_df['Precision_4'].mean())\n",
        "\n",
        "# avg_r4 = (nr_df['Recall_4'].mean())\n",
        "\n",
        "# avg_f4 = (nr_df['fmeasure_4'].mean())\n",
        "\n",
        "# avg_pL = (nr_df['Precision_L'].mean())\n",
        "\n",
        "# avg_rL = (nr_df['Recall_L'].mean())\n",
        "\n",
        "# avg_fL = (nr_df['fmeasure_L'].mean())\n",
        "\n",
        "# print(f'\\033[1mPrecision_1\\033[0m \\n{avg_p1}')\n",
        "# print(f'')\n",
        "# print(f'\\033[1mRecall_1\\033[0m \\n{avg_r1}')\n",
        "# print(f'')\n",
        "# print(f'\\033[1mFmeasure_1\\033[0m \\n{avg_f1}')\n",
        "# print(f'')\n",
        "# print(f'\\033[1mPrecision_4\\033[0m \\n{avg_p4}')\n",
        "# print(f'')\n",
        "# print(f'\\033[1mRecall_4\\033[0m \\n{avg_r4}')\n",
        "# print(f'')\n",
        "# print(f'\\033[1mFmeasure_4\\033[0m \\n{avg_f4}')\n",
        "# print(f'')\n",
        "# print(f'\\033[1mPrecision_L\\033[0m \\n{avg_pL}')\n",
        "# print(f'')\n",
        "# print(f'\\033[1mRecall_L\\033[0m \\n{avg_rL}')\n",
        "# print(f'')\n",
        "# print(f'\\033[1mFmeasure_L\\033[0m \\n{avg_fL}')"
      ],
      "metadata": {
        "id": "jvW7v-Uappxc"
      },
      "execution_count": null,
      "outputs": []
    },
    {
      "cell_type": "code",
      "source": [
        "#Sentiment Match-Exact String Correlation\n",
        "\n",
        "print(\"\\033[1mSentiment Match-Exact String Correlation:\\033[0m\", nr_df['De_Sentiment_Match'].corr(nr_df['Exact_String']))\n",
        "print(f'')"
      ],
      "metadata": {
        "id": "BmyueCvEUzq5",
        "colab": {
          "base_uri": "https://localhost:8080/"
        },
        "outputId": "531586e4-17c5-437e-a774-b27c95dbe948"
      },
      "execution_count": null,
      "outputs": [
        {
          "output_type": "stream",
          "name": "stdout",
          "text": [
            "\u001b[1mSentiment Match-Exact String Correlation:\u001b[0m 0.24321669839362667\n",
            "\n"
          ]
        }
      ]
    },
    {
      "cell_type": "code",
      "source": [],
      "metadata": {
        "id": "kmxdwqpjJw1y"
      },
      "execution_count": null,
      "outputs": []
    },
    {
      "cell_type": "code",
      "source": [],
      "metadata": {
        "id": "-AFAIulZJwmc"
      },
      "execution_count": null,
      "outputs": []
    },
    {
      "cell_type": "code",
      "source": [],
      "metadata": {
        "id": "M5-YZgyhJwj3"
      },
      "execution_count": null,
      "outputs": []
    },
    {
      "cell_type": "code",
      "source": [],
      "metadata": {
        "id": "Aj4hAXKKJwhZ"
      },
      "execution_count": null,
      "outputs": []
    },
    {
      "cell_type": "code",
      "source": [
        "#German Gold-German Translated averages ROUGE 1\n",
        "\n",
        "# Do these need to be changed? Why is it groupby([X]).mean().groupby(X)[Y].mean()?\n",
        "# THIS WORKED later on: delta_fL = nr_df.groupby('Sentiment_Delta')['fmeasure_L'].mean()\n",
        "# Should all of these cells be changed? \n",
        "\n",
        "gt_p1 = (nr_df.groupby(['De_Sentiment_Match'], as_index=False).mean()\n",
        "            .groupby('De_Sentiment_Match')['Precision_1'].mean())\n",
        "\n",
        "gt_r1 = (nr_df.groupby(['De_Sentiment_Match'], as_index=False).mean()\n",
        "            .groupby('De_Sentiment_Match')['Recall_1'].mean())\n",
        "\n",
        "gt_f1 = (nr_df.groupby(['De_Sentiment_Match'], as_index=False).mean()\n",
        "            .groupby('De_Sentiment_Match')['fmeasure_1'].mean())\n",
        "\n",
        "print(f'\\033[1mPrecision_1\\033[0m \\n{gt_p1}')\n",
        "print(f'')\n",
        "print(f'\\033[1mRecall_1\\033[0m \\n{gt_r1}')\n",
        "print(f'')\n",
        "print(f'\\033[1mFmeasure_1\\033[0m \\n{gt_f1}')"
      ],
      "metadata": {
        "id": "eMhyaicUUj-o",
        "colab": {
          "base_uri": "https://localhost:8080/"
        },
        "outputId": "c7bfbe9a-cbc3-40a9-e3e0-c0250d0e11f1"
      },
      "execution_count": null,
      "outputs": [
        {
          "output_type": "stream",
          "name": "stdout",
          "text": [
            "\u001b[1mPrecision_1\u001b[0m \n",
            "De_Sentiment_Match\n",
            "False    0.360594\n",
            "True     0.580079\n",
            "Name: Precision_1, dtype: float64\n",
            "\n",
            "\u001b[1mRecall_1\u001b[0m \n",
            "De_Sentiment_Match\n",
            "False    0.411694\n",
            "True     0.606150\n",
            "Name: Recall_1, dtype: float64\n",
            "\n",
            "\u001b[1mFmeasure_1\u001b[0m \n",
            "De_Sentiment_Match\n",
            "False    0.366412\n",
            "True     0.583021\n",
            "Name: fmeasure_1, dtype: float64\n"
          ]
        }
      ]
    },
    {
      "cell_type": "code",
      "source": [
        "#German Gold-German Translated averages ROUGE 4\n",
        "\n",
        "gt_p4 = (nr_df.groupby(['De_Sentiment_Match'], as_index=False).mean()\n",
        "            .groupby('De_Sentiment_Match')['Precision_4'].mean())\n",
        "\n",
        "gt_r4 = (nr_df.groupby(['De_Sentiment_Match'], as_index=False).mean()\n",
        "            .groupby('De_Sentiment_Match')['Recall_4'].mean())\n",
        "\n",
        "gt_f4 = (nr_df.groupby(['De_Sentiment_Match'], as_index=False).mean()\n",
        "            .groupby('De_Sentiment_Match')['fmeasure_4'].mean())\n",
        "\n",
        "print(f'\\033[1mPrecision_4\\033[0m \\n{gt_p4}')\n",
        "print(f'')\n",
        "print(f'\\033[1mRecall_4\\033[0m \\n{gt_r4}')\n",
        "print(f'')\n",
        "print(f'\\033[1mFmeasure_4\\033[0m \\n{gt_f4}')"
      ],
      "metadata": {
        "id": "5xQb-b98Yxxd",
        "colab": {
          "base_uri": "https://localhost:8080/"
        },
        "outputId": "e16d5f96-b60e-483f-dd8f-ea727bb01d46"
      },
      "execution_count": null,
      "outputs": [
        {
          "output_type": "stream",
          "name": "stdout",
          "text": [
            "\u001b[1mPrecision_4\u001b[0m \n",
            "De_Sentiment_Match\n",
            "False    0.044317\n",
            "True     0.154801\n",
            "Name: Precision_4, dtype: float64\n",
            "\n",
            "\u001b[1mRecall_4\u001b[0m \n",
            "De_Sentiment_Match\n",
            "False    0.049159\n",
            "True     0.158289\n",
            "Name: Recall_4, dtype: float64\n",
            "\n",
            "\u001b[1mFmeasure_4\u001b[0m \n",
            "De_Sentiment_Match\n",
            "False    0.044616\n",
            "True     0.154746\n",
            "Name: fmeasure_4, dtype: float64\n"
          ]
        }
      ]
    },
    {
      "cell_type": "code",
      "source": [
        "#German Gold-German Translated averages ROUGE L\n",
        "\n",
        "gt_pL = (nr_df.groupby(['De_Sentiment_Match'], as_index=False).mean()\n",
        "            .groupby('De_Sentiment_Match')['Precision_L'].mean())\n",
        "\n",
        "gt_rL = (nr_df.groupby(['De_Sentiment_Match'], as_index=False).mean()\n",
        "            .groupby('De_Sentiment_Match')['Recall_L'].mean())\n",
        "\n",
        "gt_fL = (nr_df.groupby(['De_Sentiment_Match'], as_index=False).mean()\n",
        "            .groupby('De_Sentiment_Match')['fmeasure_L'].mean())\n",
        "\n",
        "print(f'\\033[1mPrecision_L\\033[0m \\n{gt_pL}')\n",
        "print(f'')\n",
        "print(f'\\033[1mRecall_L\\033[0m \\n{gt_rL}')\n",
        "print(f'')\n",
        "print(f'\\033[1mFmeasure_L\\033[0m \\n{gt_fL}')"
      ],
      "metadata": {
        "id": "SvbvtdV0bGZe",
        "colab": {
          "base_uri": "https://localhost:8080/"
        },
        "outputId": "a05286c9-f02a-4fba-f833-9fb3b8bd8b8d"
      },
      "execution_count": null,
      "outputs": [
        {
          "output_type": "stream",
          "name": "stdout",
          "text": [
            "\u001b[1mPrecision_L\u001b[0m \n",
            "De_Sentiment_Match\n",
            "False    0.347430\n",
            "True     0.569079\n",
            "Name: Precision_L, dtype: float64\n",
            "\n",
            "\u001b[1mRecall_L\u001b[0m \n",
            "De_Sentiment_Match\n",
            "False    0.397681\n",
            "True     0.594139\n",
            "Name: Recall_L, dtype: float64\n",
            "\n",
            "\u001b[1mFmeasure_L\u001b[0m \n",
            "De_Sentiment_Match\n",
            "False    0.353201\n",
            "True     0.571780\n",
            "Name: fmeasure_L, dtype: float64\n"
          ]
        }
      ]
    },
    {
      "cell_type": "code",
      "source": [
        "#German Gold-English averages ROUGE 1\n",
        "\n",
        "ge_p1 = (nr_df.groupby(['DeG_En_Sentiment_Match'], as_index=False).mean()\n",
        "            .groupby('DeG_En_Sentiment_Match')['Precision_1'].mean())\n",
        "\n",
        "ge_r1 = (nr_df.groupby(['DeG_En_Sentiment_Match'], as_index=False).mean()\n",
        "            .groupby('DeG_En_Sentiment_Match')['Recall_1'].mean())\n",
        "\n",
        "ge_f1 = (nr_df.groupby(['DeG_En_Sentiment_Match'], as_index=False).mean()\n",
        "            .groupby('DeG_En_Sentiment_Match')['fmeasure_1'].mean())\n",
        "\n",
        "print(f'\\033[1mPrecision_1\\033[0m \\n{ge_p1}')\n",
        "print(f'')\n",
        "print(f'\\033[1mRecall_1\\033[0m \\n{ge_r1}')\n",
        "print(f'')\n",
        "print(f'\\033[1mFmeasure_1\\033[0m \\n{ge_f1}')"
      ],
      "metadata": {
        "id": "P8M91GLDgJcC",
        "colab": {
          "base_uri": "https://localhost:8080/"
        },
        "outputId": "9f7f4f4f-7420-463f-a4dc-d5f3bc90de89"
      },
      "execution_count": null,
      "outputs": [
        {
          "output_type": "stream",
          "name": "stdout",
          "text": [
            "\u001b[1mPrecision_1\u001b[0m \n",
            "DeG_En_Sentiment_Match\n",
            "False    0.500518\n",
            "True     0.533047\n",
            "Name: Precision_1, dtype: float64\n",
            "\n",
            "\u001b[1mRecall_1\u001b[0m \n",
            "DeG_En_Sentiment_Match\n",
            "False    0.537264\n",
            "True     0.563276\n",
            "Name: Recall_1, dtype: float64\n",
            "\n",
            "\u001b[1mFmeasure_1\u001b[0m \n",
            "DeG_En_Sentiment_Match\n",
            "False    0.505277\n",
            "True     0.536022\n",
            "Name: fmeasure_1, dtype: float64\n"
          ]
        }
      ]
    },
    {
      "cell_type": "code",
      "source": [
        "#German Gold-English averages ROUGE 4\n",
        "\n",
        "ge_p4 = (nr_df.groupby(['DeG_En_Sentiment_Match'], as_index=False).mean()\n",
        "            .groupby('DeG_En_Sentiment_Match')['Precision_4'].mean())\n",
        "\n",
        "ge_r4 = (nr_df.groupby(['DeG_En_Sentiment_Match'], as_index=False).mean()\n",
        "            .groupby('DeG_En_Sentiment_Match')['Recall_4'].mean())\n",
        "\n",
        "ge_f4 = (nr_df.groupby(['DeG_En_Sentiment_Match'], as_index=False).mean()\n",
        "            .groupby('DeG_En_Sentiment_Match')['fmeasure_4'].mean())\n",
        "\n",
        "print(f'\\033[1mPrecision_1\\033[0m \\n{ge_p4}')\n",
        "print(f'')\n",
        "print(f'\\033[1mRecall_1\\033[0m \\n{ge_r4}')\n",
        "print(f'')\n",
        "print(f'\\033[1mFmeasure_1\\033[0m \\n{ge_f4}')"
      ],
      "metadata": {
        "id": "219i2wSOH-Ag",
        "colab": {
          "base_uri": "https://localhost:8080/"
        },
        "outputId": "924867a7-5310-4a00-a3c7-78bd5f1cfd5d"
      },
      "execution_count": null,
      "outputs": [
        {
          "output_type": "stream",
          "name": "stdout",
          "text": [
            "\u001b[1mPrecision_1\u001b[0m \n",
            "DeG_En_Sentiment_Match\n",
            "False    0.118695\n",
            "True     0.128158\n",
            "Name: Precision_4, dtype: float64\n",
            "\n",
            "\u001b[1mRecall_1\u001b[0m \n",
            "DeG_En_Sentiment_Match\n",
            "False    0.123152\n",
            "True     0.131577\n",
            "Name: Recall_4, dtype: float64\n",
            "\n",
            "\u001b[1mFmeasure_1\u001b[0m \n",
            "DeG_En_Sentiment_Match\n",
            "False    0.118883\n",
            "True     0.128094\n",
            "Name: fmeasure_4, dtype: float64\n"
          ]
        }
      ]
    },
    {
      "cell_type": "code",
      "source": [
        "#German Gold-English averages ROUGE L\n",
        "\n",
        "ge_pL = (nr_df.groupby(['DeG_En_Sentiment_Match'], as_index=False).mean()\n",
        "            .groupby('DeG_En_Sentiment_Match')['Precision_L'].mean())\n",
        "\n",
        "ge_rL = (nr_df.groupby(['DeG_En_Sentiment_Match'], as_index=False).mean()\n",
        "            .groupby('DeG_En_Sentiment_Match')['Recall_L'].mean())\n",
        "\n",
        "ge_fL = (nr_df.groupby(['DeG_En_Sentiment_Match'], as_index=False).mean()\n",
        "            .groupby('DeG_En_Sentiment_Match')['fmeasure_L'].mean())\n",
        "\n",
        "print(f'\\033[1mPrecision_1\\033[0m \\n{ge_pL}')\n",
        "print(f'')\n",
        "print(f'\\033[1mRecall_1\\033[0m \\n{ge_rL}')\n",
        "print(f'')\n",
        "print(f'\\033[1mFmeasure_1\\033[0m \\n{ge_fL}')"
      ],
      "metadata": {
        "id": "Jh5tz92AH9vI",
        "colab": {
          "base_uri": "https://localhost:8080/"
        },
        "outputId": "068ca86f-a1d1-45a8-a816-098ebfd170f2"
      },
      "execution_count": null,
      "outputs": [
        {
          "output_type": "stream",
          "name": "stdout",
          "text": [
            "\u001b[1mPrecision_1\u001b[0m \n",
            "DeG_En_Sentiment_Match\n",
            "False    0.489306\n",
            "True     0.521153\n",
            "Name: Precision_L, dtype: float64\n",
            "\n",
            "\u001b[1mRecall_1\u001b[0m \n",
            "DeG_En_Sentiment_Match\n",
            "False    0.525331\n",
            "True     0.550231\n",
            "Name: Recall_L, dtype: float64\n",
            "\n",
            "\u001b[1mFmeasure_1\u001b[0m \n",
            "DeG_En_Sentiment_Match\n",
            "False    0.494070\n",
            "True     0.523797\n",
            "Name: fmeasure_L, dtype: float64\n"
          ]
        }
      ]
    },
    {
      "cell_type": "code",
      "source": [
        "#German Translated-English Averages ROUGE 1\n",
        "\n",
        "te_p1 = (nr_df.groupby(['DeT_En_Sentiment_Match'], as_index=False).mean()\n",
        "            .groupby('DeT_En_Sentiment_Match')['Precision_1'].mean())\n",
        "\n",
        "te_r1 = (nr_df.groupby(['DeT_En_Sentiment_Match'], as_index=False).mean()\n",
        "            .groupby('DeT_En_Sentiment_Match')['Recall_1'].mean())\n",
        "\n",
        "te_f1 = (nr_df.groupby(['DeT_En_Sentiment_Match'], as_index=False).mean()\n",
        "            .groupby('DeT_En_Sentiment_Match')['fmeasure_1'].mean())\n",
        "\n",
        "print(f'\\033[1mPrecision_1\\033[0m \\n{te_p1}')\n",
        "print(f'')\n",
        "print(f'\\033[1mRecall_1\\033[0m \\n{te_r1}')\n",
        "print(f'')\n",
        "print(f'\\033[1mFmeasure_1\\033[0m \\n{te_f1}')"
      ],
      "metadata": {
        "id": "YzJdLekHUBh3",
        "colab": {
          "base_uri": "https://localhost:8080/"
        },
        "outputId": "49615603-2596-4fcc-9d6b-9dadfcb7fe8d"
      },
      "execution_count": null,
      "outputs": [
        {
          "output_type": "stream",
          "name": "stdout",
          "text": [
            "\u001b[1mPrecision_1\u001b[0m \n",
            "DeT_En_Sentiment_Match\n",
            "False    0.507763\n",
            "True     0.526955\n",
            "Name: Precision_1, dtype: float64\n",
            "\n",
            "\u001b[1mRecall_1\u001b[0m \n",
            "DeT_En_Sentiment_Match\n",
            "False    0.545276\n",
            "True     0.556859\n",
            "Name: Recall_1, dtype: float64\n",
            "\n",
            "\u001b[1mFmeasure_1\u001b[0m \n",
            "DeT_En_Sentiment_Match\n",
            "False    0.513754\n",
            "True     0.529130\n",
            "Name: fmeasure_1, dtype: float64\n"
          ]
        }
      ]
    },
    {
      "cell_type": "code",
      "source": [
        "#German Translated-English Averages ROUGE 4\n",
        "\n",
        "te_p4 = (nr_df.groupby(['DeT_En_Sentiment_Match'], as_index=False).mean()\n",
        "            .groupby('DeT_En_Sentiment_Match')['Precision_4'].mean())\n",
        "\n",
        "te_r4 = (nr_df.groupby(['DeT_En_Sentiment_Match'], as_index=False).mean()\n",
        "            .groupby('DeT_En_Sentiment_Match')['Recall_4'].mean())\n",
        "\n",
        "te_f4 = (nr_df.groupby(['DeT_En_Sentiment_Match'], as_index=False).mean()\n",
        "            .groupby('DeT_En_Sentiment_Match')['fmeasure_4'].mean())\n",
        "\n",
        "print(f'\\033[1mPrecision_1\\033[0m \\n{te_p4}')\n",
        "print(f'')\n",
        "print(f'\\033[1mRecall_1\\033[0m \\n{te_r4}')\n",
        "print(f'')\n",
        "print(f'\\033[1mFmeasure_1\\033[0m \\n{te_f4}')"
      ],
      "metadata": {
        "id": "0JXaSjNqJGaM",
        "colab": {
          "base_uri": "https://localhost:8080/"
        },
        "outputId": "e0ceef77-2b04-4ab0-8957-4ea505dad09b"
      },
      "execution_count": null,
      "outputs": [
        {
          "output_type": "stream",
          "name": "stdout",
          "text": [
            "\u001b[1mPrecision_1\u001b[0m \n",
            "DeT_En_Sentiment_Match\n",
            "False    0.124212\n",
            "True     0.124012\n",
            "Name: Precision_4, dtype: float64\n",
            "\n",
            "\u001b[1mRecall_1\u001b[0m \n",
            "DeT_En_Sentiment_Match\n",
            "False    0.129470\n",
            "True     0.126907\n",
            "Name: Recall_4, dtype: float64\n",
            "\n",
            "\u001b[1mFmeasure_1\u001b[0m \n",
            "DeT_En_Sentiment_Match\n",
            "False    0.124688\n",
            "True     0.123755\n",
            "Name: fmeasure_4, dtype: float64\n"
          ]
        }
      ]
    },
    {
      "cell_type": "code",
      "source": [
        "#German Translated-English Averages ROUGE L\n",
        "\n",
        "te_pL = (nr_df.groupby(['DeT_En_Sentiment_Match'], as_index=False).mean()\n",
        "            .groupby('DeT_En_Sentiment_Match')['Precision_L'].mean())\n",
        "\n",
        "te_rL = (nr_df.groupby(['DeT_En_Sentiment_Match'], as_index=False).mean()\n",
        "            .groupby('DeT_En_Sentiment_Match')['Recall_L'].mean())\n",
        "\n",
        "te_fL = (nr_df.groupby(['DeT_En_Sentiment_Match'], as_index=False).mean()\n",
        "            .groupby('DeT_En_Sentiment_Match')['fmeasure_L'].mean())\n",
        "\n",
        "print(f'\\033[1mPrecision_1\\033[0m \\n{te_pL}')\n",
        "print(f'')\n",
        "print(f'\\033[1mRecall_1\\033[0m \\n{te_rL}')\n",
        "print(f'')\n",
        "print(f'\\033[1mFmeasure_1\\033[0m \\n{te_fL}')"
      ],
      "metadata": {
        "id": "CPcHXwBpJGV5",
        "colab": {
          "base_uri": "https://localhost:8080/"
        },
        "outputId": "e8d7c22a-7169-4bff-8e9f-9f79cef49362"
      },
      "execution_count": null,
      "outputs": [
        {
          "output_type": "stream",
          "name": "stdout",
          "text": [
            "\u001b[1mPrecision_1\u001b[0m \n",
            "DeT_En_Sentiment_Match\n",
            "False    0.496369\n",
            "True     0.515209\n",
            "Name: Precision_L, dtype: float64\n",
            "\n",
            "\u001b[1mRecall_1\u001b[0m \n",
            "DeT_En_Sentiment_Match\n",
            "False    0.532893\n",
            "True     0.544163\n",
            "Name: Recall_L, dtype: float64\n",
            "\n",
            "\u001b[1mFmeasure_1\u001b[0m \n",
            "DeT_En_Sentiment_Match\n",
            "False    0.502196\n",
            "True     0.517182\n",
            "Name: fmeasure_L, dtype: float64\n"
          ]
        }
      ]
    },
    {
      "cell_type": "code",
      "source": [],
      "metadata": {
        "id": "oHpdSk0MJuIb"
      },
      "execution_count": null,
      "outputs": []
    },
    {
      "cell_type": "code",
      "source": [],
      "metadata": {
        "id": "zK52Q-WlJuAS"
      },
      "execution_count": null,
      "outputs": []
    },
    {
      "cell_type": "code",
      "source": [],
      "metadata": {
        "id": "FIbpPMuKJtsH"
      },
      "execution_count": null,
      "outputs": []
    },
    {
      "cell_type": "code",
      "source": [
        "#Sentiment delta for Germans (Gold and Translated)\n",
        "\n",
        "#If SD = 0, sentiments are the same\n",
        "#If SD > 0, Gold is higher than Translated\n",
        "#If SD < 0, Gold is lower than Translated\n",
        "\n",
        "nr_df[\"Sentiment_Delta\"] = nr_df[\"sent_gold\"] - nr_df[\"sent_trans\"]\n",
        "nr_df"
      ],
      "metadata": {
        "id": "_EWo21gWAPCG"
      },
      "execution_count": null,
      "outputs": []
    },
    {
      "cell_type": "code",
      "source": [
        "#Correlations for Sentiment Match and Rouge1 P/R/F\n",
        "#Think about WHY this is being computed\n",
        "#Isn't this only really relevant for GT-GG? Can just copy-paste the code and change out column names if need to do GT-E and GG-E\n",
        "\n",
        "print(f'\\033[1mCorrelations for Translated German-German Gold\\033[0m')\n",
        "print(f'')\n",
        "print(\"\\033[1mPrecision_1:\\033[0m\", nr_df['De_Sentiment_Match'].corr(nr_df['Precision_1']))\n",
        "print(\"\\033[1mRecall_1:\\033[0m\", nr_df['De_Sentiment_Match'].corr(nr_df['Recall_1']))\n",
        "print(\"\\033[1mfmeasure_1:\\033[0m\", nr_df['De_Sentiment_Match'].corr(nr_df['fmeasure_1']))\n",
        "print(f'')\n",
        "\n",
        "# plt.scatter(x=nr_df[\"De_Sentiment_Match\"], y=nr_df[\"Precision_1\"], c=\"r\", alpha=0.5)\n",
        "# plt.scatter(x=nr_df[\"De_Sentiment_Match\"], y=nr_df[\"Recall_1\"], c=\"r\", alpha=0.5)\n",
        "# plt.scatter(x=nr_df[\"De_Sentiment_Match\"], y=nr_df[\"fmeasure_1\"], c=\"r\", alpha=0.5)"
      ],
      "metadata": {
        "id": "uR3l7vD_Oasi",
        "colab": {
          "base_uri": "https://localhost:8080/"
        },
        "outputId": "8960bc6e-df30-401f-9378-4988b0f0c38f"
      },
      "execution_count": null,
      "outputs": [
        {
          "output_type": "stream",
          "name": "stdout",
          "text": [
            "\u001b[1mCorrelations for Translated German-German Gold\u001b[0m\n",
            "\n",
            "\u001b[1mPrecision_1:\u001b[0m 0.28548766429003397\n",
            "\u001b[1mRecall_1:\u001b[0m 0.2523081474647252\n",
            "\u001b[1mfmeasure_1:\u001b[0m 0.28870048572880663\n",
            "\n"
          ]
        }
      ]
    },
    {
      "cell_type": "code",
      "source": [
        "#Correlations for Sentiment Match and Rouge4 P/R/F\n",
        "\n",
        "print(f'\\033[1mCorrelations for Translated German-German Gold\\033[0m')\n",
        "print(f'')\n",
        "print(\"\\033[1mPrecision_4:\\033[0m\", nr_df['De_Sentiment_Match'].corr(nr_df['Precision_4']))\n",
        "print(\"\\033[1mRecall_4:\\033[0m\", nr_df['De_Sentiment_Match'].corr(nr_df['Recall_4']))\n",
        "print(\"\\033[1mfmeasure_4:\\033[0m\", nr_df['De_Sentiment_Match'].corr(nr_df['fmeasure_4']))\n",
        "print(f'')"
      ],
      "metadata": {
        "id": "difoa1UenZ0B",
        "colab": {
          "base_uri": "https://localhost:8080/"
        },
        "outputId": "ab34048c-e739-4029-da16-8f394db8ad76"
      },
      "execution_count": null,
      "outputs": [
        {
          "output_type": "stream",
          "name": "stdout",
          "text": [
            "\u001b[1mCorrelations for Translated German-German Gold\u001b[0m\n",
            "\n",
            "\u001b[1mPrecision_4:\u001b[0m 0.17153559243156066\n",
            "\u001b[1mRecall_4:\u001b[0m 0.1663008552758554\n",
            "\u001b[1mfmeasure_4:\u001b[0m 0.171844646433851\n",
            "\n"
          ]
        }
      ]
    },
    {
      "cell_type": "code",
      "source": [
        "#Correlations for Sentiment Match and RougeL P/R/F\n",
        "\n",
        "print(f'\\033[1mCorrelations for Translated German-German Gold\\033[0m')\n",
        "print(f'')\n",
        "print(\"\\033[1mPrecision_L:\\033[0m\", nr_df['De_Sentiment_Match'].corr(nr_df['Precision_L']))\n",
        "print(\"\\033[1mRecall_L:\\033[0m\", nr_df['De_Sentiment_Match'].corr(nr_df['Recall_L']))\n",
        "print(\"\\033[1mfmeasure_L:\\033[0m\", nr_df['De_Sentiment_Match'].corr(nr_df['fmeasure_L']))\n",
        "print(f'')\n",
        "\n",
        "# plt.scatter(x=nr_df[\"De_Sentiment_Match\"], y=nr_df[\"Precision_1\"], c=\"r\", alpha=0.5)\n",
        "# plt.scatter(x=nr_df[\"De_Sentiment_Match\"], y=nr_df[\"Recall_1\"], c=\"r\", alpha=0.5)\n",
        "# plt.scatter(x=nr_df[\"De_Sentiment_Match\"], y=nr_df[\"fmeasure_1\"], c=\"r\", alpha=0.5)"
      ],
      "metadata": {
        "id": "BEO5O0QWn43I",
        "colab": {
          "base_uri": "https://localhost:8080/"
        },
        "outputId": "cbc0e31d-74ae-4664-c5bb-c3b5731e1a1b"
      },
      "execution_count": null,
      "outputs": [
        {
          "output_type": "stream",
          "name": "stdout",
          "text": [
            "\u001b[1mCorrelations for Translated German-German Gold\u001b[0m\n",
            "\n",
            "\u001b[1mPrecision_L:\u001b[0m 0.2891416137255223\n",
            "\u001b[1mRecall_L:\u001b[0m 0.2555529435744181\n",
            "\u001b[1mfmeasure_L:\u001b[0m 0.2919857758777842\n",
            "\n"
          ]
        }
      ]
    },
    {
      "cell_type": "code",
      "source": [
        "p = nr_df['Sentiment_Delta'].corr(nr_df['Precision_1'])\n",
        "r = nr_df['Sentiment_Delta'].corr(nr_df['Recall_1'])\n",
        "f = nr_df['Sentiment_Delta'].corr(nr_df['fmeasure_1'])\n",
        "\n",
        "print(f'\\033[1mPrecision_1:\\033[0m {p}')\n",
        "print(f'\\033[1mRecall_1:\\033[0m {r}')\n",
        "print(f'\\033[1mFmeasure_1:\\033[0m {f}')"
      ],
      "metadata": {
        "id": "WCSUUPR5CiN3",
        "colab": {
          "base_uri": "https://localhost:8080/"
        },
        "outputId": "e6ffea47-336c-423e-ee10-577228738b72"
      },
      "execution_count": null,
      "outputs": [
        {
          "output_type": "stream",
          "name": "stdout",
          "text": [
            "\u001b[1mPrecision_1:\u001b[0m -0.017308352413954144\n",
            "\u001b[1mRecall_1:\u001b[0m -0.004062653415637547\n",
            "\u001b[1mFmeasure_1:\u001b[0m -0.01733773448004942\n"
          ]
        }
      ]
    },
    {
      "cell_type": "code",
      "source": [
        "p4 = nr_df['Sentiment_Delta'].corr(nr_df['Precision_4'])\n",
        "r4 = nr_df['Sentiment_Delta'].corr(nr_df['Recall_4'])\n",
        "f4 = nr_df['Sentiment_Delta'].corr(nr_df['fmeasure_4'])\n",
        "\n",
        "print(f'\\033[1mPrecision_4:\\033[0m {p4}')\n",
        "print(f'\\033[1mRecall_4:\\033[0m {r4}')\n",
        "print(f'\\033[1mFmeasure_4:\\033[0m {f4}')"
      ],
      "metadata": {
        "id": "BObCnCpr_Abo",
        "colab": {
          "base_uri": "https://localhost:8080/"
        },
        "outputId": "08f4537d-ec0f-4294-a828-2c2135e04733"
      },
      "execution_count": null,
      "outputs": [
        {
          "output_type": "stream",
          "name": "stdout",
          "text": [
            "\u001b[1mPrecision_4:\u001b[0m -0.010913338335049852\n",
            "\u001b[1mRecall_4:\u001b[0m -0.01055204574605726\n",
            "\u001b[1mFmeasure_4:\u001b[0m -0.011150054690434862\n"
          ]
        }
      ]
    },
    {
      "cell_type": "code",
      "source": [
        "pL = nr_df['Sentiment_Delta'].corr(nr_df['Precision_L'])\n",
        "rL = nr_df['Sentiment_Delta'].corr(nr_df['Recall_L'])\n",
        "fL = nr_df['Sentiment_Delta'].corr(nr_df['fmeasure_L'])\n",
        "\n",
        "print(f'\\033[1mPrecision_L:\\033[0m {pL}')\n",
        "print(f'\\033[1mRecall_L:\\033[0m {rL}')\n",
        "print(f'\\033[1mFmeasure_L:\\033[0m {fL}')"
      ],
      "metadata": {
        "id": "emiL_33a_Kmx",
        "colab": {
          "base_uri": "https://localhost:8080/"
        },
        "outputId": "5e1dc80a-2591-4a4e-f515-e1aa0908bba6"
      },
      "execution_count": null,
      "outputs": [
        {
          "output_type": "stream",
          "name": "stdout",
          "text": [
            "\u001b[1mPrecision_L:\u001b[0m -0.020251820297048508\n",
            "\u001b[1mRecall_L:\u001b[0m -0.006865408350673526\n",
            "\u001b[1mFmeasure_L:\u001b[0m -0.020215962433438636\n"
          ]
        }
      ]
    },
    {
      "cell_type": "code",
      "source": [
        "print(f'\\033[1mES-SM Corr\\033[0m')\n",
        "print(f'')\n",
        "print(\"\\033[1mSentM-ES:\\033[0m\", nr_df['Sentiment_Delta'].corr(nr_df['Exact_String']))\n",
        "print(f'')"
      ],
      "metadata": {
        "id": "lrE5YOuSX1kg",
        "colab": {
          "base_uri": "https://localhost:8080/"
        },
        "outputId": "0570769d-90ab-4218-8044-034aebf5b60d"
      },
      "execution_count": null,
      "outputs": [
        {
          "output_type": "stream",
          "name": "stdout",
          "text": [
            "\u001b[1mES-SM Corr\u001b[0m\n",
            "\n",
            "\u001b[1mSentM-ES:\u001b[0m -0.004007449169825625\n",
            "\n"
          ]
        }
      ]
    },
    {
      "cell_type": "code",
      "source": [
        "#ROUGE 1\n",
        "\n",
        "# delta_p1 = (nr_df.groupby(['Precision_1'], as_index=False).mean()\n",
        "#             .groupby('Sentiment_Delta')['Precision_1'].mean())\n",
        "# delta_r1 = (nr_df.groupby(['Recall_1'], as_index=False).mean()\n",
        "#             .groupby('Sentiment_Delta')['Recall_1'].mean())\n",
        "# delta_f1 = (nr_df.groupby(['fmeasure_1'], as_index=False).mean()\n",
        "#             .groupby('Sentiment_Delta')['fmeasure_1'].mean())\n",
        "# delta_p1"
      ],
      "metadata": {
        "id": "_K-XzxdEoUTK"
      },
      "execution_count": null,
      "outputs": []
    },
    {
      "cell_type": "code",
      "source": [
        "#ROUGE 4\n",
        "\n",
        "# delta_p4 = (nr_df.groupby(['Precision_4'], as_index=False).mean()\n",
        "#             .groupby('Sentiment_Delta')['Precision_4'].mean())\n",
        "# delta_r4 = (nr_df.groupby(['Recall_4'], as_index=False).mean()\n",
        "#             .groupby('Sentiment_Delta')['Recall_4'].mean())\n",
        "# delta_f4 = (nr_df.groupby(['fmeasure_4'], as_index=False).mean()\n",
        "#             .groupby('Sentiment_Delta')['fmeasure_4'].mean())\n",
        "# delta_p4"
      ],
      "metadata": {
        "id": "EZ7ZbXryJnIo"
      },
      "execution_count": null,
      "outputs": []
    },
    {
      "cell_type": "code",
      "source": [
        "# ROUGE L\n",
        "# delta_pL = (nr_df.groupby(['Precision_L'], as_index=False).mean()\n",
        "#             .groupby('Sentiment_Delta')['Precision_L'].mean())\n",
        "# delta_rL = (nr_df.groupby(['Recall_L'], as_index=False).mean()\n",
        "#             .groupby('Sentiment_Delta')['Recall_L'].mean())\n",
        "# delta_fL = (nr_df.groupby(['fmeasure_L'], as_index=False).mean()\n",
        "#             .groupby('Sentiment_Delta')['fmeasure_L'].mean())\n",
        "# delta_pL"
      ],
      "metadata": {
        "id": "mnCOFzfjMBEk"
      },
      "execution_count": null,
      "outputs": []
    },
    {
      "cell_type": "code",
      "source": [
        "#Barplot ROUGE1-SD\n",
        "\n",
        "delta_p1 = nr_df.groupby('Sentiment_Delta')['Precision_1'].mean()\n",
        "delta_r1 = nr_df.groupby('Sentiment_Delta')['Recall_1'].mean()\n",
        "delta_f1 = nr_df.groupby('Sentiment_Delta')['fmeasure_1'].mean()\n",
        "\n",
        "dp1 = pd.DataFrame(delta_p1)\n",
        "dr1 = pd.DataFrame(delta_r1)\n",
        "df1 = pd.DataFrame(delta_f1)\n",
        "\n",
        "m_1 = pd.merge(delta_p1, delta_r1, on=\"Sentiment_Delta\")\n",
        "m_2 = pd.merge(m_1, delta_f1, on=\"Sentiment_Delta\")\n",
        "\n",
        "m_2.plot.bar(rot=1)\n",
        "\n",
        "# delta_d1 = (nr_df.groupby(['Sentiment_Delta'], as_index=False).mean())        \n",
        "#               .groupby('Sentiment_Delta')['Precision_1'].mean())\n",
        "\n",
        "# delta_r1 = (nr_df.groupby(['Recall_1'], as_index=False).mean()\n",
        "#               .groupby('Sentiment_Delta')['Recall_1'].mean())\n",
        "\n",
        "# delta_f1 = (nr_df.groupby(['fmeasure_1'], as_index=False).mean()\n",
        "#             .groupby('Sentiment_Delta')['fmeasure_1'].mean())\n"
      ],
      "metadata": {
        "colab": {
          "base_uri": "https://localhost:8080/",
          "height": 306
        },
        "id": "ynpEW7LNfLHE",
        "outputId": "bb3fcbf6-8695-4c21-99fa-54539c082738"
      },
      "execution_count": null,
      "outputs": [
        {
          "output_type": "execute_result",
          "data": {
            "text/plain": [
              "<matplotlib.axes._subplots.AxesSubplot at 0x7f9c48ac7ee0>"
            ]
          },
          "metadata": {},
          "execution_count": 48
        },
        {
          "output_type": "display_data",
          "data": {
            "text/plain": [
              "<Figure size 432x288 with 1 Axes>"
            ],
            "image/png": "[encoded data removed]"
          },
          "metadata": {}
        }
      ]
    },
    {
      "cell_type": "code",
      "source": [
        "#Barplot ROUGE4-SD\n",
        "\n",
        "delta_p4 = nr_df.groupby('Sentiment_Delta')['Precision_4'].mean()\n",
        "delta_r4 = nr_df.groupby('Sentiment_Delta')['Recall_4'].mean()\n",
        "delta_f4 = nr_df.groupby('Sentiment_Delta')['fmeasure_4'].mean()\n",
        "\n",
        "dp4 = pd.DataFrame(delta_p4)\n",
        "dr4 = pd.DataFrame(delta_r4)\n",
        "df4 = pd.DataFrame(delta_f4)\n",
        "\n",
        "m_1_1 = pd.merge(delta_p4, delta_r4, on=\"Sentiment_Delta\")\n",
        "m_2_1 = pd.merge(m_1_1, delta_f4, on=\"Sentiment_Delta\")\n",
        "\n",
        "m_2_1.plot.bar(rot=1)"
      ],
      "metadata": {
        "colab": {
          "base_uri": "https://localhost:8080/",
          "height": 306
        },
        "id": "yYfL6UHu3KJ7",
        "outputId": "58ac629b-56b8-4783-b26c-82902532044b"
      },
      "execution_count": null,
      "outputs": [
        {
          "output_type": "execute_result",
          "data": {
            "text/plain": [
              "<matplotlib.axes._subplots.AxesSubplot at 0x7f9c4bf13070>"
            ]
          },
          "metadata": {},
          "execution_count": 49
        },
        {
          "output_type": "display_data",
          "data": {
            "text/plain": [
              "<Figure size 432x288 with 1 Axes>"
            ],
            "image/png": "[encoded data removed]"
          },
          "metadata": {}
        }
      ]
    },
    {
      "cell_type": "code",
      "source": [
        "#Barplot ROUGEL-SD\n",
        "\n",
        "delta_pL = nr_df.groupby('Sentiment_Delta')['Precision_L'].mean()\n",
        "delta_rL = nr_df.groupby('Sentiment_Delta')['Recall_L'].mean()\n",
        "delta_fL = nr_df.groupby('Sentiment_Delta')['fmeasure_L'].mean()\n",
        "\n",
        "dpL = pd.DataFrame(delta_pL)\n",
        "drL = pd.DataFrame(delta_rL)\n",
        "dfL = pd.DataFrame(delta_fL)\n",
        "\n",
        "m_1_2 = pd.merge(delta_pL, delta_rL, on=\"Sentiment_Delta\")\n",
        "m_2_2 = pd.merge(m_1_2, delta_fL, on=\"Sentiment_Delta\")\n",
        "\n",
        "# m_2_2\n",
        "\n",
        "m_2_2.plot.bar(rot=1)"
      ],
      "metadata": {
        "colab": {
          "base_uri": "https://localhost:8080/",
          "height": 306
        },
        "id": "_TTnQPqq3J-D",
        "outputId": "f8fceb59-b0a8-41c9-f49f-33d2c1e19a06"
      },
      "execution_count": null,
      "outputs": [
        {
          "output_type": "execute_result",
          "data": {
            "text/plain": [
              "<matplotlib.axes._subplots.AxesSubplot at 0x7f9c4ba13ee0>"
            ]
          },
          "metadata": {},
          "execution_count": 50
        },
        {
          "output_type": "display_data",
          "data": {
            "text/plain": [
              "<Figure size 432x288 with 1 Axes>"
            ],
            "image/png": "[encoded data removed]"
          },
          "metadata": {}
        }
      ]
    },
    {
      "cell_type": "code",
      "source": [
        "# m_2.plot.bar(rot=1)\n",
        "# m_2_1.plot.bar(rot=1)\n",
        "# m_2_2.plot.bar(rot=1)\n",
        "\n",
        "m_new = pd.merge(m_2, m_2_1, on=\"Sentiment_Delta\")\n",
        "m_new2 = pd.merge(m_new, m_2_2, on=\"Sentiment_Delta\")\n",
        "\n",
        "m_new2.plot.bar(rot=1, figsize = (12,12))"
      ],
      "metadata": {
        "colab": {
          "base_uri": "https://localhost:8080/",
          "height": 741
        },
        "id": "a602ONkL44PU",
        "outputId": "1ba65f4d-e8c0-4603-9d60-e6c70784cc0b"
      },
      "execution_count": null,
      "outputs": [
        {
          "output_type": "execute_result",
          "data": {
            "text/plain": [
              "<matplotlib.axes._subplots.AxesSubplot at 0x7f9c48a168b0>"
            ]
          },
          "metadata": {},
          "execution_count": 51
        },
        {
          "output_type": "display_data",
          "data": {
            "text/plain": [
              "<Figure size 864x864 with 1 Axes>"
            ],
            "image/png": "[encoded data removed]"
          },
          "metadata": {}
        }
      ]
    },
    {
      "cell_type": "code",
      "source": [
        "#Correlation coefficients are very similar across all types of correlation, ~ -0.004\n",
        "\n",
        "# nr_df['Sentiment_Delta'].corr(nr_df['Exact_String'], method=\"pearson\")\n",
        "# nr_df['Sentiment_Delta'].corr(nr_df['Exact_String'], method=\"spearman\")\n",
        "# nr_df['Sentiment_Delta'].corr(nr_df['Exact_String'], method=\"kendall\")"
      ],
      "metadata": {
        "id": "BPnIXbzqL6p0"
      },
      "execution_count": null,
      "outputs": []
    },
    {
      "cell_type": "code",
      "source": [
        "#What is the best type of correlation to use for the data types? --> mix of floats, strings, and bools\n",
        "#Does this type of correlation matrix need a heatmap, like for the confusion matrices?\n",
        "\n",
        "esp = nr_df[['Exact_String','Precision_1', 'Precision_4', 'Precision_L']]\n",
        "\n",
        "esp_r = esp.corr()\n",
        "\n",
        "sns.set(font_scale=0.8)\n",
        "sns.heatmap(esp_r, annot=True, cmap=sns.diverging_palette(220, 10, as_cmap=True),square=True)"
      ],
      "metadata": {
        "id": "Llbyk7BTINzU",
        "colab": {
          "base_uri": "https://localhost:8080/",
          "height": 287
        },
        "outputId": "ce13909d-a96b-4183-b16a-1f58e7b78470"
      },
      "execution_count": null,
      "outputs": [
        {
          "output_type": "execute_result",
          "data": {
            "text/plain": [
              "<matplotlib.axes._subplots.AxesSubplot at 0x7f9c4894f670>"
            ]
          },
          "metadata": {},
          "execution_count": 53
        },
        {
          "output_type": "display_data",
          "data": {
            "text/plain": [
              "<Figure size 432x288 with 2 Axes>"
            ],
            "image/png": "[encoded data removed]"
          },
          "metadata": {}
        }
      ]
    },
    {
      "cell_type": "code",
      "source": [
        "sdm = nr_df[['Exact_String','Sentiment_Delta', 'De_Sentiment_Match']]\n",
        "\n",
        "sdm_r = sdm.corr()\n",
        "\n",
        "sns.set(font_scale=1.2)\n",
        "sns.heatmap(sdm_r, annot=True, cmap=sns.diverging_palette(220, 10, as_cmap=True),square=True)"
      ],
      "metadata": {
        "id": "uwy2EeA4ZSbL",
        "colab": {
          "base_uri": "https://localhost:8080/",
          "height": 421
        },
        "outputId": "18609785-0c2c-4691-9736-299af6508deb"
      },
      "execution_count": null,
      "outputs": [
        {
          "output_type": "execute_result",
          "data": {
            "text/plain": [
              "<matplotlib.axes._subplots.AxesSubplot at 0x7f9c48c00700>"
            ]
          },
          "metadata": {},
          "execution_count": 54
        },
        {
          "output_type": "display_data",
          "data": {
            "text/plain": [
              "<Figure size 432x288 with 2 Axes>"
            ],
            "image/png": "[encoded data removed]"
          },
          "metadata": {}
        }
      ]
    },
    {
      "cell_type": "code",
      "source": [
        "# nr_df.to_csv('evals_w_rouge.tsv', sep=\"\\t\")"
      ],
      "metadata": {
        "id": "ZxTB6FadaqLr"
      },
      "execution_count": null,
      "outputs": []
    },
    {
      "cell_type": "code",
      "source": [
        "# sns.lineplot(data=[delta_p4, delta_f4])"
      ],
      "metadata": {
        "id": "n_tJdvwIJSSq"
      },
      "execution_count": null,
      "outputs": []
    },
    {
      "cell_type": "code",
      "source": [
        "# nr_df"
      ],
      "metadata": {
        "id": "6FkhvsDfL6iK"
      },
      "execution_count": null,
      "outputs": []
    },
    {
      "cell_type": "code",
      "source": [
        "# nr_df.to_csv('total.tsv', sep=\"\\t\")"
      ],
      "metadata": {
        "id": "OGtVohZ-kKaM"
      },
      "execution_count": null,
      "outputs": []
    },
    {
      "cell_type": "code",
      "source": [
        "# smaller = nr_df.loc[nr_df['Exact_String'] == False]\n",
        "\n",
        "# smaller"
      ],
      "metadata": {
        "id": "91lE0J-7Lg0f"
      },
      "execution_count": null,
      "outputs": []
    },
    {
      "cell_type": "markdown",
      "source": [
        "**Below are the data visualizations (which are very much a WIP), which have been separated from the dataframe creation/analysis for the sake of clarity and organization. They are not part of the new files that were generated in the cells directly above, so nothing is being lost by including the graphs here.**"
      ],
      "metadata": {
        "id": "JSKv9dVDLahB"
      }
    },
    {
      "cell_type": "code",
      "source": [
        "#SD-R1 Scatterplot\n",
        "\n",
        "# plt.scatter(x=, y=, c=\"r\", alpha=0.5)\n",
        "# plt.title(\"Recall_1 and Sentiment_Delta\")\n",
        "# plt.xlabel(\"Sentiment_Delta\")\n",
        "# plt.ylabel(\"Recall_1\")"
      ],
      "metadata": {
        "id": "wBz7FSS8k9bK"
      },
      "execution_count": null,
      "outputs": []
    }
  ]
}